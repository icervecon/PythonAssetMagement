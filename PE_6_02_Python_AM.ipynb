{
  "nbformat": 4,
  "nbformat_minor": 0,
  "metadata": {
    "colab": {
      "provenance": []
    },
    "kernelspec": {
      "name": "python3",
      "display_name": "Python 3"
    },
    "language_info": {
      "name": "python"
    }
  },
  "cells": [
    {
      "cell_type": "markdown",
      "source": [
        "# Practical Exercise 6.02: Comparing fund performance with benchmark performance."
      ],
      "metadata": {
        "id": "zZA7VWv5RXeg"
      }
    },
    {
      "cell_type": "code",
      "execution_count": null,
      "metadata": {
        "id": "lAU2018fRTc5"
      },
      "outputs": [],
      "source": [
        "import numpy as np\n",
        "import pandas as pd\n",
        "import matplotlib.pyplot as plt\n",
        "import empyrical as ep  # Importing empyrical for financial metrics\n",
        "\n",
        "# Sample data: Simulated daily returns of a fund and benchmark\n",
        "np.random.seed(42)\n",
        "dates = pd.date_range(start='2025-01-01', periods=252, freq='B')\n",
        "fund_returns = np.random.normal(0.0005, 0.01, len(dates))  # Simulating daily fund returns\n",
        "benchmark_returns = np.random.normal(0.0004, 0.009, len(dates))  # Simulating benchmark returns\n",
        "\n",
        "# Convert to pandas DataFrame\n",
        "data = pd.DataFrame({'Date': dates, 'Fund_Returns': fund_returns, 'Benchmark_Returns': benchmark_returns})\n",
        "data.set_index('Date', inplace=True)\n",
        "\n",
        "# Risk-free rate (daily rate)\n",
        "risk_free_rate = 0.02 / 252  # Convert annual rate to daily\n",
        "\n",
        "# Function to calculate key metrics using empyrical\n",
        "def calculate_metrics(df, risk_free_rate):\n",
        "    fund = df['Fund_Returns']\n",
        "    benchmark = df['Benchmark_Returns']\n",
        "    excess_returns = fund - benchmark  # Required for tracking error and information ratio\n",
        "\n",
        "    annualized_return = ep.annual_return(fund)\n",
        "    benchmark_annualized_return = ep.annual_return(benchmark)\n",
        "    annualized_volatility = ep.annual_volatility(fund)\n",
        "    sharpe_ratio = ep.sharpe_ratio(fund, risk_free=risk_free_rate)\n",
        "    sortino_ratio = ep.sortino_ratio(fund, required_return=risk_free_rate)\n",
        "    max_drawdown = ep.max_drawdown(fund)\n",
        "\n",
        "    # FIX: Manually calculate Tracking Error\n",
        "    tracking_error = excess_returns.std() * np.sqrt(252)\n",
        "\n",
        "    # FIX: Manually calculate Information Ratio\n",
        "    excess_annualized_return = annualized_return - benchmark_annualized_return\n",
        "    information_ratio = excess_annualized_return / tracking_error if tracking_error != 0 else np.nan\n",
        "\n",
        "    beta = ep.beta(fund, benchmark)\n",
        "    alpha = ep.alpha(fund, benchmark, risk_free=risk_free_rate)\n",
        "    calmar_ratio = ep.calmar_ratio(fund)\n",
        "\n",
        "    return {\n",
        "        'Annualized Return': annualized_return,\n",
        "        'Benchmark Annualized Return': benchmark_annualized_return,\n",
        "        'Annualized Volatility': annualized_volatility,\n",
        "        'Sharpe Ratio': sharpe_ratio,\n",
        "        'Sortino Ratio': sortino_ratio,\n",
        "        'Maximum Drawdown': max_drawdown,\n",
        "        'Tracking Error': tracking_error,  # FIXED: Now calculated manually\n",
        "        'Information Ratio': information_ratio,  # FIXED: Now calculated manually\n",
        "        'Beta': beta,\n",
        "        'Alpha': alpha,\n",
        "        'Calmar Ratio': calmar_ratio\n",
        "    }\n",
        "\n",
        "# Calculate metrics\n",
        "metrics = calculate_metrics(data, risk_free_rate)\n",
        "\n",
        "# Display results\n",
        "for metric, value in metrics.items():\n",
        "    print(f\"{metric}: {value:.4f}\")\n",
        "\n",
        "# Plot Fund vs. Benchmark Returns Over Time\n",
        "plt.figure(figsize=(10, 5))\n",
        "plt.plot(data.index, data['Fund_Returns'].cumsum(), label='Fund', color='blue')\n",
        "plt.plot(data.index, data['Benchmark_Returns'].cumsum(), label='Benchmark', color='orange')\n",
        "plt.xlabel(\"Date\")\n",
        "plt.ylabel(\"Cumulative Returns\")\n",
        "plt.title(\"Comparison of Fund and Benchmark Cumulative Returns\")\n",
        "plt.legend()\n",
        "plt.show()\n"
      ]
    }
  ]
}