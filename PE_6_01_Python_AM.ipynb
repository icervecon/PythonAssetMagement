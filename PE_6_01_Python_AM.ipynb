{
  "nbformat": 4,
  "nbformat_minor": 0,
  "metadata": {
    "colab": {
      "provenance": []
    },
    "kernelspec": {
      "name": "python3",
      "display_name": "Python 3"
    },
    "language_info": {
      "name": "python"
    }
  },
  "cells": [
    {
      "cell_type": "markdown",
      "source": [
        "# Practical Exercise 6.01: Comparing fund performance with benchmark performance."
      ],
      "metadata": {
        "id": "Yyw6GiaHRCgz"
      }
    },
    {
      "cell_type": "code",
      "execution_count": null,
      "metadata": {
        "id": "3feCLTZUQ7BW"
      },
      "outputs": [],
      "source": [
        "import numpy as np\n",
        "import pandas as pd\n",
        "import matplotlib.pyplot as plt\n",
        "\n",
        "# Sample data: Simulated daily returns of a fund and benchmark\n",
        "np.random.seed(42)\n",
        "dates = pd.date_range(start='2025-01-01', periods=252, freq='B')\n",
        "fund_returns = np.random.normal(0.0005, 0.01, len(dates))  # Simulating daily fund returns\n",
        "benchmark_returns = np.random.normal(0.0004, 0.009, len(dates))  # Simulating benchmark returns\n",
        "\n",
        "# Convert to pandas DataFrame\n",
        "data = pd.DataFrame({'Date': dates, 'Fund_Returns': fund_returns, 'Benchmark_Returns': benchmark_returns})\n",
        "data.set_index('Date', inplace=True)\n",
        "\n",
        "# Risk-free rate (annualized)\n",
        "risk_free_rate = 0.02\n",
        "trading_days = 252  # Annual trading days\n",
        "\n",
        "# Function to calculate key metrics\n",
        "def calculate_metrics(df, risk_free_rate):\n",
        "    excess_returns = df['Fund_Returns'] - df['Benchmark_Returns']\n",
        "    cumulative_return = (1 + df['Fund_Returns']).prod() - 1\n",
        "    annualized_return = (1 + cumulative_return) ** (trading_days / len(df)) - 1\n",
        "    benchmark_cumulative_return = (1 + df['Benchmark_Returns']).prod() - 1\n",
        "    benchmark_annualized_return = (1 + benchmark_cumulative_return) ** (trading_days / len(df)) - 1\n",
        "    annualized_volatility = df['Fund_Returns'].std() * np.sqrt(trading_days)\n",
        "    sharpe_ratio = (annualized_return - risk_free_rate) / annualized_volatility\n",
        "    sortino_ratio = (annualized_return - risk_free_rate) / (df[df['Fund_Returns'] < 0]['Fund_Returns'].std() * np.sqrt(trading_days))\n",
        "    max_drawdown = (df['Fund_Returns'].cumsum().expanding().max() - df['Fund_Returns'].cumsum()).max()\n",
        "    tracking_error = np.std(excess_returns) * np.sqrt(trading_days)\n",
        "    information_ratio = (annualized_return - df['Benchmark_Returns'].mean() * trading_days) / tracking_error\n",
        "    beta = np.cov(df['Fund_Returns'], df['Benchmark_Returns'])[0,1] / np.var(df['Benchmark_Returns'])\n",
        "    alpha = annualized_return - (risk_free_rate + beta * (df['Benchmark_Returns'].mean() * trading_days - risk_free_rate))\n",
        "    calmar_ratio = annualized_return / abs(max_drawdown)\n",
        "\n",
        "    return {\n",
        "        'Annualized Return': annualized_return,\n",
        "        'Benchmark Annualized Return': benchmark_annualized_return,\n",
        "        'Annualized Volatility': annualized_volatility,\n",
        "        'Sharpe Ratio': sharpe_ratio,\n",
        "        'Sortino Ratio': sortino_ratio,\n",
        "        'Maximum Drawdown': max_drawdown,\n",
        "        'Tracking Error': tracking_error,\n",
        "        'Information Ratio': information_ratio,\n",
        "        'Beta': beta,\n",
        "        'Alpha': alpha,\n",
        "        'Calmar Ratio': calmar_ratio\n",
        "    }\n",
        "\n",
        "# Calculate metrics\n",
        "metrics = calculate_metrics(data, risk_free_rate)\n",
        "\n",
        "# Display results\n",
        "for metric, value in metrics.items():\n",
        "    print(f\"{metric}: {value:.4f}\")\n",
        "\n",
        "# Plot Fund vs. Benchmark Returns Over Time\n",
        "plt.figure(figsize=(10, 5))\n",
        "plt.plot(data.index, data['Fund_Returns'].cumsum(), label='Fund', color='blue')\n",
        "plt.plot(data.index, data['Benchmark_Returns'].cumsum(), label='Benchmark', color='orange')\n",
        "plt.xlabel(\"Date\")\n",
        "plt.ylabel(\"Cumulative Returns\")\n",
        "plt.title(\"Comparison of Fund and Benchmark Cumulative Returns\")\n",
        "plt.legend()\n",
        "plt.show()\n"
      ]
    }
  ]
}