{
  "nbformat": 4,
  "nbformat_minor": 0,
  "metadata": {
    "colab": {
      "provenance": []
    },
    "kernelspec": {
      "name": "python3",
      "display_name": "Python 3"
    },
    "language_info": {
      "name": "python"
    }
  },
  "cells": [
    {
      "cell_type": "markdown",
      "source": [
        "# Practical Exercise 3.01: Equity Optimal Portfolios"
      ],
      "metadata": {
        "id": "-EzlwBbnDlCB"
      }
    },
    {
      "cell_type": "code",
      "execution_count": null,
      "metadata": {
        "id": "SHP1rZwZCnkC"
      },
      "outputs": [],
      "source": [
        "# Libraries for the practical exercises 3.1 to 3.5\n",
        "import pandas as pd\n",
        "import pandas_datareader.data as web\n",
        "import numpy as np\n",
        "import pandas as pd\n",
        "import yfinance as yf\n",
        "import matplotlib.pyplot as plt\n",
        "import scipy.optimize as sco\n",
        "import statsmodels.api as sm\n",
        "from datetime import datetime\n"
      ]
    },
    {
      "cell_type": "code",
      "source": [
        "# The characteristics of the data are specified\n",
        "def get_adj_close(symbols, start, end=None):\n",
        "    data = yf.download(symbols, start=start, end=end, auto_adjust=False, actions=False, group_by='ticker')\n",
        "    adj_close = data.xs('Adj Close', level=1, axis=1)\n",
        "    # Rearrange columns exactly according to ticker list\n",
        "    adj_close = adj_close[symbols]\n",
        "    return adj_close\n",
        "\n",
        "# List of companies\n",
        "symbols = ['AAPL', 'AMZN', 'META', 'GOOGL','MSFT','NVDA', 'TSLA']\n",
        "start = '2014-01-01'\n",
        "\n",
        "prices = get_adj_close(symbols, start)\n",
        "prices=prices.round(2)\n",
        "prices\n"
      ],
      "metadata": {
        "id": "wqG0IF22Ct87"
      },
      "execution_count": null,
      "outputs": []
    },
    {
      "cell_type": "code",
      "source": [
        "# Let’s graphic the share price performance\n",
        "\n",
        "fig, axes = plt.subplots(nrows=len(symbols), ncols = 1, figsize = (10,20))\n",
        "for k, v in enumerate(sorted(symbols),0):\n",
        "    axes[0].set_title('Adj Close Price Trends')\n",
        "    axes[k].plot(prices[v], c=np.random.random(3))\n",
        "    axes[k].legend([v], loc = 0)\n"
      ],
      "metadata": {
        "id": "LDEjJGVqCyoe"
      },
      "execution_count": null,
      "outputs": []
    },
    {
      "cell_type": "code",
      "source": [
        "# Daily returns are calculated with these prices, starting from the cells without data.\n",
        "\n",
        "daily_returns = prices.pct_change().dropna()\n",
        "daily_returns.columns = symbols\n",
        "\n",
        "mean_daily_returns = daily_returns.mean(axis=0)\n",
        "daily_volt=daily_returns.std(axis=0)\n",
        "\n",
        "# The annualized return and risk are calculated for each security.\n",
        "\n",
        "an_volt = daily_volt * np.sqrt(252)\n",
        "mean_returns = mean_daily_returns * 252\n",
        "print('Annualized returns')\n",
        "print(mean_returns.round(3))\n",
        "print('Annualized volatilities')\n",
        "print(an_volt.round(3))\n"
      ],
      "metadata": {
        "id": "JZ3AHt9QC2IN"
      },
      "execution_count": null,
      "outputs": []
    },
    {
      "cell_type": "code",
      "source": [
        "# Let’s calculate the correlation matrix\n",
        "\n",
        "daily_returns.corr().round(2)\n"
      ],
      "metadata": {
        "id": "sZEYS6K-C3f-"
      },
      "execution_count": null,
      "outputs": []
    },
    {
      "cell_type": "code",
      "source": [
        "# The covariance matrix is calculated\n",
        "cov_matrix = daily_returns.cov()\n",
        "\n",
        "# We provide a specific target level of risk (volatility)\n",
        "target_risk = float(input(\"Please enter the target volatility (e.g., 0.25 for 25%): \"))\n",
        "\n",
        "# We construct the function to calculate portfolio's annualized performance (volatility and return)\n",
        "def portfolio_annualized_performance(weights, mean_returns, cov_matrix):\n",
        "    returns = np.sum(mean_returns * weights)\n",
        "    std = np.sqrt(np.dot(weights.T, np.dot(cov_matrix, weights))) * np.sqrt(252)\n",
        "    return std, returns\n",
        "\n",
        "# We construct the function to maximize portfolio return given a target risk\n",
        "def max_return_for_given_risk(mean_returns, cov_matrix, target_risk):\n",
        "    num_assets = len(mean_returns)\n",
        "    args = (mean_returns, cov_matrix)\n",
        "\n",
        "    # Constraint: weights sum to 1 and portfolio volatility equals the target risk\n",
        "    constraints = ({'type': 'eq', 'fun': lambda x: portfolio_annualized_performance(x, mean_returns, cov_matrix)[0]- target_risk}, {'type': 'eq', 'fun': lambda x: np.sum(x) - 1})\n",
        "\n",
        "    # Bounds: each weight is between 0 and 1\n",
        "    bounds = tuple((0, 1) for asset in range(num_assets))\n",
        "\n",
        "    # Initial guess for the weights (equal distribution)\n",
        "    initial_weights = num_assets * [1. / num_assets, ]\n",
        "\n",
        "    # Perform the optimization to maximize return subject to constraints\n",
        "    result = sco.minimize(lambda x: -portfolio_annualized_performance(x, mean_returns, cov_matrix)[1],\n",
        "                          initial_weights, method='SLSQP', bounds=bounds, constraints=constraints)\n",
        "    return result\n",
        "\n",
        "# We find the optimal portfolio for the given target risk\n",
        "optimal_portfolio = max_return_for_given_risk(mean_returns, cov_matrix, target_risk)\n",
        "optimal_volatility, optimal_return = portfolio_annualized_performance(optimal_portfolio.x, mean_returns, cov_matrix)\n",
        "\n",
        "# The optimal portfolio results are displayed\n",
        "optimal_allocation = pd.DataFrame(optimal_portfolio.x, index=adj_close_data.columns, columns=['allocation'])\n",
        "optimal_allocation.allocation = [round(i * 100, 2) for i in optimal_allocation.allocation]\n",
        "optimal_allocation = optimal_allocation.T\n",
        "\n",
        "\n",
        "\n",
        "print(\"\\nOptimal Portfolio for Target Volatility of {:.2%}\\n\".format(target_risk))\n",
        "print(\"Annualized Return (%):\", round(optimal_return * 100, 3))\n",
        "print(\"Annualized Volatility (%):\", round(optimal_volatility * 100, 3))\n",
        "print(\"\\nAllocation:\")\n",
        "optimal_allocation=optimal_allocation[symbols]\n",
        "optimal_allocation\n"
      ],
      "metadata": {
        "id": "hSvrqQtPC82C"
      },
      "execution_count": null,
      "outputs": []
    },
    {
      "cell_type": "markdown",
      "source": [
        "# Practical Exercise 3.02: Efficient Frontier"
      ],
      "metadata": {
        "id": "PaDhAhtFDtOF"
      }
    },
    {
      "cell_type": "code",
      "source": [
        "# We provide the number of portfolios to be generated\n",
        "num_portfolios = float(input(\"Please enter the number of portfolios to be generated (e.g., 25000): \"))\n",
        "num_portfolios = int(num_portfolios)\n"
      ],
      "metadata": {
        "id": "ebviq5HBDz8I"
      },
      "execution_count": null,
      "outputs": []
    },
    {
      "cell_type": "code",
      "source": [
        "# We provide the risk free rate\n",
        "risk_free_rate = float(input(\"Please enter the risk free rate (e.g., 0.01 for 1%): \"))\n"
      ],
      "metadata": {
        "id": "uETkQ2rDD3zF"
      },
      "execution_count": null,
      "outputs": []
    },
    {
      "cell_type": "code",
      "source": [
        "# We construct a Portfolio Performance Function\n",
        "\n",
        "def portfolio_annualized_performance(weights, mean_returns, cov_matrix):\n",
        "    returns = np.sum(mean_returns * weights)\n",
        "    std = np.sqrt(np.dot(weights.T, np.dot(cov_matrix, weights))) * np.sqrt(252)\n",
        "    return std, returns\n",
        "\n",
        "# We generate Random Portfolios\n",
        "def generate_random_portfolios(num_portfolios, mean_returns, cov_matrix, risk_free_rate):\n",
        "    results = np.zeros((3, num_portfolios))\n",
        "    weights_record = []\n",
        "    for i in range(num_portfolios):\n",
        "        weights = np.random.random(len(symbols))\n",
        "        weights /= np.sum(weights)\n",
        "        weights_record.append(weights)\n",
        "        portfolio_std_dev, portfolio_return = portfolio_annualized_performance(weights, mean_returns, cov_matrix)\n",
        "        results[0, i] = portfolio_std_dev\n",
        "        results[1, i] = portfolio_return\n",
        "        results[2, i] = (portfolio_return - risk_free_rate) / portfolio_std_dev\n",
        "    return results, weights_record\n",
        "\n",
        "# We construct a function to minimize for Efficient Frontier\n",
        "\n",
        "def minimize_volatility(mean_returns, cov_matrix, target_return):\n",
        "    num_assets = len(mean_returns)\n",
        "    args = (mean_returns, cov_matrix)\n",
        "\n",
        "    constraints = ({'type': 'eq', 'fun': lambda x: portfolio_annualized_performance(x, mean_returns, cov_matrix)[1] - target_return},\n",
        "                   {'type': 'eq', 'fun': lambda x: np.sum(x) - 1})\n",
        "\n",
        "    bounds = tuple((0, 1) for asset in range(num_assets))\n",
        "    result = sco.minimize(lambda x: portfolio_annualized_performance(x, mean_returns, cov_matrix)[0],\n",
        "                          num_assets * [1. / num_assets], method='SLSQP', bounds=bounds, constraints=constraints)\n",
        "\n",
        "    return result\n",
        "\n",
        "# We generate Portfolios and identify Key Portfolios\n",
        "results, weights = generate_random_portfolios(num_portfolios, mean_returns, cov_matrix, risk_free_rate)\n",
        "\n",
        "# We identify the Maximum Sharpe Ratio Portfolio, which is the portfolio of maximum slope in the efficient frontier:\n",
        "\n",
        "max_sharpe_idx = np.argmax(results[2])\n",
        "sdp, rp = results[0, max_sharpe_idx], results[1, max_sharpe_idx]\n",
        "sharpe_ratio = (rp - risk_free_rate) / sdp\n",
        "max_sharpe_allocation = pd.DataFrame(weights[max_sharpe_idx], index=symbols, columns=['allocation'])\n",
        "max_sharpe_allocation.allocation = [round(i*100,2) for i in max_sharpe_allocation.allocation]\n",
        "\n",
        "# We identify the Minimum Variance Portfolio, which is the first portfolio of the efficient frontier:\n",
        "\n",
        "min_vol_idx = np.argmin(results[0])\n",
        "sdp_min, rp_min = results[0, min_vol_idx], results[1, min_vol_idx]\n",
        "min_vol_allocation = pd.DataFrame(weights[min_vol_idx], index=symbols, columns=['allocation'])\n",
        "min_vol_allocation.allocation = [round(i*100,2) for i in min_vol_allocation.allocation]\n",
        "\n",
        "# We calculate the Efficient Frontier (Starting from the MVP)\n",
        "\n",
        "target_returns = np.linspace(rp_min, max(mean_returns), 100)\n",
        "efficient_volatilities = []\n",
        "efficient_returns = []\n",
        "for target_return in target_returns:\n",
        "    optimized_result = minimize_volatility(mean_returns, cov_matrix, target_return)\n",
        "    efficient_volatilities.append(optimized_result.fun)\n",
        "    efficient_returns.append(target_return)\n",
        "efficient_volatilities = np.array(efficient_volatilities)\n",
        "efficient_returns = np.array(efficient_returns)\n",
        "\n",
        "\n",
        "# We display Portfolio Characteristics:\n",
        "\n",
        "print(\"\\033[1m Maximum Sharpe Ratio Portfolio Allocation\\033[0m\\n \")\n",
        "print(\"Annualized Return:\", round(rp*100, 2))\n",
        "print(\"Annualized Volatility:\", round(sdp*100, 2))\n",
        "print(\"Sharpe Ratio:\", round(sharpe_ratio, 2))\n",
        "print(max_sharpe_allocation.T)\n",
        "\n",
        "print(\"\\n\\033[1m Minimum Variance Portfolio Allocation\\033[0m\\n\")\n",
        "print(\"Annualized Return:\", round(rp_min*100, 2))\n",
        "print(\"Annualized Volatility:\", round(sdp_min*100, 2))\n",
        "print(min_vol_allocation.T)\n",
        "\n",
        "\n",
        "\n",
        "# We plot the Efficient Frontier\n",
        "\n",
        "plt.figure(figsize=(8, 6))\n",
        "plt.grid(True)\n",
        "plt.scatter(results[0, :], results[1, :], c=results[2, :], cmap='YlGnBu', marker='o', s=10, alpha=0.3)\n",
        "plt.colorbar()\n",
        "plt.plot(efficient_volatilities, efficient_returns, linestyle='-', color='black', linewidth=2, label='Efficient Frontier')\n",
        "plt.scatter(sdp, rp, marker='o', color='r', s=100, label='Maximum Sharpe ratio Portfolio')\n",
        "plt.scatter(sdp_min, rp_min, marker='o', color='b', s=100, label='Minimum Variance Portfolio')\n",
        "plt.title('EFFICIENT FRONTIER')\n",
        "plt.xlabel('annualized volatility')\n",
        "plt.ylabel('annualized returns')\n",
        "plt.legend(labelspacing=0.8)\n",
        "plt.show()\n"
      ],
      "metadata": {
        "id": "BkIborkoD7lY"
      },
      "execution_count": null,
      "outputs": []
    },
    {
      "cell_type": "markdown",
      "source": [
        "# Practical Exercise 3.03: Capital Market Line"
      ],
      "metadata": {
        "id": "0uGaxO9PEEB0"
      }
    },
    {
      "cell_type": "code",
      "source": [
        "# Additional Code for Incorporating CML\n",
        "\n",
        "# We calculate portfolio return and weights in market portfolio and risk-free asset\n",
        "\n",
        "cml_return = risk_free_rate + sharpe_ratio * target_risk\n",
        "weight_market_portfolio = target_risk / sdp\n",
        "weight_risk_free = 1 - weight_market_portfolio\n",
        "\n",
        "# We calculate the portfolio characteristics for the target risk\n",
        "\n",
        "target_portfolio_allocation = weight_market_portfolio * max_sharpe_allocation['allocation'] / 100\n",
        "\n",
        "\n",
        "# We determine if it's a lending or borrowing portfolio\n",
        "\n",
        "if weight_market_portfolio < 1:\n",
        "    portfolio_type = \"Lending Portfolio\"\n",
        "else:\n",
        "    portfolio_type = \"Borrowing Portfolio\"\n",
        "\n",
        "\n",
        "# We display the characteristics of the portfolio with the target risk\n",
        "\n",
        "print(portfolio_type)\n",
        "print(\"Target Risk (%):\", round(target_risk*100, 2))\n",
        "print(\"Return (%):\", round(cml_return*100, 2))\n",
        "print(\"Weight in Market Portfolio (%):\", round(weight_market_portfolio*100, 2))\n",
        "print(\"Weight in Risk-Free Asset (%):\", round(weight_risk_free*100, 2))\n"
      ],
      "metadata": {
        "id": "5nl8TwtbEHgq"
      },
      "execution_count": null,
      "outputs": []
    },
    {
      "cell_type": "code",
      "source": [
        "# We plot Efficient Frontier\n",
        "\n",
        "plt.figure(figsize=(8, 6))\n",
        "plt.grid(True)\n",
        "plt.scatter(results[0, :], results[1, :], c=results[2, :], cmap='YlGnBu', marker='o', s=10, alpha=0.3)\n",
        "plt.colorbar()\n",
        "plt.plot(efficient_volatilities, efficient_returns, linestyle='-', color='black', linewidth=2, label='Efficient Frontier')\n",
        "plt.scatter(sdp, rp, marker='o', color='r', s=100, label='Maximum Sharpe ratio Portfolio')\n",
        "plt.scatter(sdp_min, rp_min, marker='o', color='b', s=100, label='Minimum Variance Portfolio')\n",
        "plt.title('EFFICIENT FRONTIER')\n",
        "plt.xlabel('annualized volatility')\n",
        "plt.ylabel('annualized returns')\n",
        "plt.legend(labelspacing=0.8)\n",
        "\n",
        "# We plot CML\n",
        "\n",
        "cml_x = np.linspace(0, max(results[0, :]) * 1.5, 100)\n",
        "cml_y = risk_free_rate + sharpe_ratio * cml_x\n",
        "plt.plot(cml_x, cml_y, linestyle='-', color='brown', label='Capital Market Line')\n",
        "\n",
        "# Plot Tobin Portfolio at Target Risk\n",
        "\n",
        "plt.scatter(target_risk, cml_return, marker='o', color='g', s=100, label=f'{portfolio_type}')\n",
        "\n",
        "plt.title('CAPITAL MARKET LINE (CML)')\n",
        "plt.xlabel('annualized volatility')\n",
        "plt.ylabel('annualized returns')\n",
        "plt.legend(labelspacing=0.8)\n",
        "plt.show()\n"
      ],
      "metadata": {
        "id": "dRDo1u-TENYS"
      },
      "execution_count": null,
      "outputs": []
    },
    {
      "cell_type": "markdown",
      "source": [
        "# Practical Exercise 3.04: Security Market Line"
      ],
      "metadata": {
        "id": "bQRDjE8oEZ1l"
      }
    },
    {
      "cell_type": "code",
      "source": [
        "# Function that downloads adjusted prices from Yahoo Finance for a list of stocks and a market index,\n",
        "# then calculates daily and annualized returns for both the portfolio and the market.\n",
        "\n",
        "def get_portfolio_data(tickers, market_index='^GSPC', start='2014-01-01', end=None):\n",
        "    symbols = tickers + [market_index]\n",
        "    data = yf.download(symbols, start=start, end=end, group_by='ticker', auto_adjust=False, actions=False)\n",
        "    adj_close_data = data.xs('Adj Close', level=1, axis=1)\n",
        "    adj_close_data = adj_close_data.rename(columns={market_index: 'S&P500'})\n",
        "    portfolio_daily_returns = adj_close_data.pct_change().dropna()\n",
        "    market_daily_returns = adj_close_data['S&P500'].pct_change().dropna()\n",
        "    market_mean_return = market_daily_returns.mean() * 252\n",
        "    portfolio_daily_returns = portfolio_daily_returns.reindex(columns=tickers)\n",
        "    portfolio_mean_returns = portfolio_daily_returns.mean() * 252\n",
        "    return adj_close_data, portfolio_daily_returns, market_daily_returns, portfolio_mean_returns, market_mean_return\n"
      ],
      "metadata": {
        "id": "3H-XqbzsEfRf"
      },
      "execution_count": null,
      "outputs": []
    },
    {
      "cell_type": "code",
      "source": [
        "# Apply the function to the list of stocks\n",
        "tickers = ['AAPL', 'AMZN', 'META', 'GOOGL', 'MSFT', 'NVDA', 'TSLA']\n",
        "adj_close_data, port_rets, mkt_rets, port_mean, mkt_mean = get_portfolio_data(tickers)\n",
        "print(\"\\nMarket annualized return:\", round(mkt_mean, 4))\n",
        "print(\"\\nStock annualized returns:\")\n",
        "print(port_mean.round(4))\n"
      ],
      "metadata": {
        "id": "guSkctYQEjD_"
      },
      "execution_count": null,
      "outputs": []
    },
    {
      "cell_type": "code",
      "source": [
        "# We define the start and end dates for the period you want to analyze\n",
        "days_before = float(input(\"Please enter the number of previous days (e.g., 50):\"))\n",
        "end_date=data.index.max()\n",
        "start_date = end_date - pd.DateOffset(days=days_before)\n",
        "start_date = pd.to_datetime(start_date,format='%Y%m%d')\n",
        "end_date = pd.to_datetime(end_date,format='%Y%m%d')\n",
        "filtered_data = data.loc[start_date:end_date]\n",
        "num_observations = len(filtered_data)\n",
        "print('Start date:', start_date)\n",
        "print('End date:', end_date)\n",
        "print(\"Trading sessions:\", num_observations)\n"
      ],
      "metadata": {
        "id": "wOGE3E8XEn6e"
      },
      "execution_count": null,
      "outputs": []
    },
    {
      "cell_type": "code",
      "source": [
        "# Beta is calculated on a specific period basis\n",
        "\n",
        "# Call the function to generate and unpack all required data variables\n",
        "(adj_close_data,\n",
        " portfolio_daily_returns,\n",
        " market_daily_returns,\n",
        " portfolio_mean_returns,\n",
        " market_mean_return) = get_portfolio_data(tickers, start='2014-01-01')\n",
        "\n",
        "# We filter the daily returns data for the specified date range\n",
        "\n",
        "portfolio_filtered = portfolio_daily_returns.loc[start_date:end_date]\n",
        "portfolio_filtered=portfolio_filtered.reindex(columns=tickers)\n",
        "market_filtered = market_daily_returns.loc[start_date:end_date]\n",
        "\n",
        "# We calculate the beta for each asset within the selected date range\n",
        "\n",
        "X = market_filtered\n",
        "y = portfolio_filtered\n",
        "\n",
        "X1 = sm.add_constant(X)\n",
        "model = sm.OLS(y, X1)\n",
        "reg = model.fit()\n",
        "beta = reg.params[1:]  # Extract the beta coefficients\n",
        "beta.columns = (tickers)\n",
        "\n",
        "# We display the calculated betas\n",
        "print('\\nBetas')\n",
        "beta=beta.round(2)\n",
        "beta\n"
      ],
      "metadata": {
        "id": "xnRgJKRaEr0K"
      },
      "execution_count": null,
      "outputs": []
    },
    {
      "cell_type": "code",
      "source": [
        "# The required profitability of each security is defined:\n",
        "# Ask for the risk free rate\n",
        "risk_free_rate = float(input(\"Please enter the risk free rate (e.g., 0.01 for 1%): \"))\n",
        "CAPMreturn=risk_free_rate+beta.T*(market_mean_return-risk_free_rate)\n",
        "CAPMreturn=CAPMreturn.round(2)\n",
        "CAPMreturn=CAPMreturn.T\n",
        "print('\\n')\n",
        "print('Required returns:')\n",
        "CAPMreturn\n"
      ],
      "metadata": {
        "id": "xy4k5iw7EvRZ"
      },
      "execution_count": null,
      "outputs": []
    },
    {
      "cell_type": "code",
      "source": [
        "# Transpose both dataframes to make tickers rows (indexes)\n",
        "Expected_Returns = portfolio_mean_returns.T\n",
        "Required_Returns = CAPMreturn.T\n",
        "\n",
        "# If there is an extra index (such as ^GSPC), we remove it.\n",
        "Required_Returns = Required_Returns.reset_index(drop=True)\n",
        "Required_Returns.index = Expected_Returns.index\n",
        "\n",
        "# Now we join both dataframes by the index (the tickers)\n",
        "combined_df = pd.concat([Expected_Returns*100, Required_Returns*100], axis=1)\n",
        "\n",
        "# We rename the columns for clarity\n",
        "combined_df.columns = ['Expected return (%)', 'Required return (%)']\n",
        "\n",
        "# Add a new column to indicate whether it is undervalued, overvalued or fairly valued.\n",
        "combined_df['valuation'] = combined_df.apply(\n",
        "    lambda row: 'Undervalued' if row['Required return (%)'] < row['Expected return (%)'] else\n",
        "                'Overvalued' if row['Required return (%)'] > row['Expected return (%)'] else\n",
        "                'Fairly Valued', axis=1)\n",
        "\n",
        "# Display the combined dataframe\n",
        "combined_df.round(2)\n"
      ],
      "metadata": {
        "id": "Sl8dPbhJEz0-"
      },
      "execution_count": null,
      "outputs": []
    },
    {
      "cell_type": "code",
      "source": [
        "# The function that reflects the performance of the portfolios is defined:\n",
        "\n",
        "def portfolio_annualized_performance(weights, CAPMreturn, beta):\n",
        "    returnsp = np.sum(CAPMreturn*weights )\n",
        "    betap = np.sum(beta*weights)\n",
        "    return betap, returnsp\n",
        "\n",
        "# The number of portfolios to be created is determined:\n",
        "num_portfolios = int(input(\"Please enter the number of portfolios to simulate (e.g., 25000 for 25,000):\"))\n"
      ],
      "metadata": {
        "id": "Jo2_lWgWE21P"
      },
      "execution_count": null,
      "outputs": []
    },
    {
      "cell_type": "code",
      "source": [
        "# Portfolios are randomly created by attributing their profitability and risk:\n",
        "\n",
        "def random_portfolios(num_portfolios, CAPMreturn, beta):\n",
        "    results = np.zeros((3,num_portfolios))\n",
        "    weights_list = []\n",
        "    for i in range(num_portfolios):\n",
        "        weights = np.random.random(len(tickers))\n",
        "        weights /= np.sum(weights)\n",
        "        weights_list.append(weights)\n",
        "        portfolio_beta, portfolio_return = portfolio_annualized_performance(weights, CAPMreturn, beta)\n",
        "        results[0,i] = portfolio_beta\n",
        "        results[1,i] = portfolio_return\n",
        "\n",
        "    return results, weights_list\n",
        "# The results tables of betas and returns are converted into matrices:\n",
        "\n",
        "CAPMreturn_array=np.array(CAPMreturn)\n",
        "beta_array=np.array(beta)\n",
        "portfolio_mean_returns_array=np.array(portfolio_mean_returns)\n",
        "# The role of the SML is defined on the basis of the portfolios created, incorporating the individual securities:\n",
        "\n",
        "def Simulated_SML(CAPMreturn_array, beta_array, num_portfolios):\n",
        "    results, weights = random_portfolios(num_portfolios,CAPMreturn_array, beta_array)\n",
        "    betas = [x/10 for x in range(30)]\n",
        "    assetReturns =[risk_free_rate+x*(market_mean_return-risk_free_rate) for x in betas]\n",
        "\n",
        "    plt.figure(figsize=(11, 6))\n",
        "    plt.grid(True)\n",
        "    plt.scatter(results[0,:],results [1,:], marker='o', s=10, alpha=0.3)\n",
        "    plt.scatter(beta_array,CAPMreturn_array,marker='o',color='r',s=100,edgecolors='k')\n",
        "    plt.scatter(beta,portfolio_mean_returns_array,marker='o', color='y', s=100,edgecolors='k')\n",
        "    plt.scatter(1,market_mean_return,marker='o',color='b',s=100, label='Market Index',edgecolors='k')\n",
        "    plt.scatter(0, risk_free_rate, marker='o',color='k',s=100, label='Risk free asset')\n",
        "    plt.plot(betas,assetReturns, label='SML')\n",
        "    plt.legend(loc='center left', bbox_to_anchor=(-0.3, 0.5), frameon=False)\n",
        "\n",
        "     # Annotate each ticker on the plot\n",
        "    for i in range(len(tickers)):\n",
        "        plt.annotate(tickers[i], (beta_array.T[i], CAPMreturn_array.T[i]), xytext=(5,5), textcoords='offset points', fontsize=6, color='black')\n",
        "        plt.annotate(tickers[i], (beta_array.T[i], portfolio_mean_returns_array.T[i]), xytext=(5,5), textcoords='offset points', fontsize=8, color='black')\n",
        "\n",
        "    plt.title('Simulated Security Market Line')\n",
        "    plt.xlabel('beta')\n",
        "    plt.ylabel('returns (%)')\n",
        "    plt.legend(labelspacing=0.8)\n",
        "    plt.show()\n",
        "\n",
        "# Results are shown\n",
        "\n",
        "Simulated_SML(CAPMreturn_array, beta_array, num_portfolios)\n"
      ],
      "metadata": {
        "id": "KhTplRgdE68r"
      },
      "execution_count": null,
      "outputs": []
    },
    {
      "cell_type": "markdown",
      "source": [
        "# Practical Exercise 3.05: CAPM Portfolio"
      ],
      "metadata": {
        "id": "brD_PLZIE_fl"
      }
    },
    {
      "cell_type": "code",
      "source": [
        "import pulp as pl\n",
        "# It is a Python library used for modeling and\n",
        "# solving optimization problems using linear programming\n",
        "sorted(tickers)\n"
      ],
      "metadata": {
        "id": "oqeWa4KiFF3y"
      },
      "execution_count": null,
      "outputs": []
    },
    {
      "cell_type": "code",
      "source": [
        "# Beta is calculated on a specific period basis\n",
        "# Filter the daily returns data for the specified date range\n",
        "portfolio_filtered = portfolio_daily_returns.loc[start_date:end_date]\n",
        "portfolio_filtered=portfolio_filtered.reindex(columns=tickers)\n",
        "market_filtered = market_daily_returns.loc[start_date:end_date]\n",
        "\n",
        "# Calculate the beta for each asset within the selected date range\n",
        "X = market_filtered\n",
        "y = portfolio_filtered\n",
        "\n",
        "X1 = sm.add_constant(X)\n",
        "model = sm.OLS(y, X1)\n",
        "reg = model.fit()\n",
        "beta = reg.params[1:]  # Extract the beta coefficients\n",
        "beta = beta.round(2)\n",
        "beta.columns = (tickers)\n",
        "\n",
        "# Display the calculated betas\n",
        "print('Betas')\n",
        "beta\n"
      ],
      "metadata": {
        "id": "oVRwvtYNFKKH"
      },
      "execution_count": null,
      "outputs": []
    },
    {
      "cell_type": "code",
      "source": [
        "# The betas are needed in dictionary format for the optimization function.\n",
        "# To do this: # First, the betas are passed to matrix format,\n",
        "# then to list format, and finally to dictionary format:\n",
        "\n",
        "beta2=np.array(beta)\n",
        "beta2=beta2.T\n",
        "beta2=beta2.tolist()\n",
        "betastocks=[]\n",
        "for i in range (len(tickers)):\n",
        "    betastocks.extend(beta2[i])\n",
        "betastocks=dict(zip(sorted(tickers),betastocks))\n",
        "\n",
        "# In order to set the target beta, it is necessary to know\n",
        "# the range of betas of the securities that make up the portfolio:\n",
        "print (\"Rango de las Betas\")\n",
        "print (\"Beta máxima=\",max(beta2))\n",
        "print (\"Beta mínima=\",min(beta2))\n"
      ],
      "metadata": {
        "id": "9UQLtZKLFO-H"
      },
      "execution_count": null,
      "outputs": []
    },
    {
      "cell_type": "code",
      "source": [
        "# The beta that fits the investor's profile is established:\n",
        "BetaTarget = float(input(\"Please enter the beta seeked (e.g., 1.5):\"))\n"
      ],
      "metadata": {
        "id": "cNs_2EeZFQZi"
      },
      "execution_count": null,
      "outputs": []
    },
    {
      "cell_type": "code",
      "source": [
        "# The optimization framework is established:\n",
        "prob=pl.LpProblem(\"CAPM_Weights\", pl.LpMaximize)\n",
        "\n",
        "# The variables to be calculated are established, in this case the weights\n",
        "# of the securities, whose values will be between 0 and 1:\n",
        "stocks_vars=pl.LpVariable.dicts(\"Weight\", sorted(tickers), 0,1)\n",
        "\n",
        "# Flatten the two-dimensional array\n",
        "portfolio_mean_returns_flat = portfolio_mean_returns_array.flatten()\n",
        "\n",
        "# Make sure that the length matches the number of tickers.\n",
        "if len(portfolio_mean_returns_flat) == len(tickers):\n",
        "    portfolio_mean_returns_series = pd.Series(portfolio_mean_returns_flat, index=tickers)\n",
        "else:\n",
        "    print(\"Error: Length of returns does not match number of tickers\")\n",
        "\n",
        "# Print to check\n",
        "print(\"Annual portfolio returns:\", portfolio_mean_returns_series)\n"
      ],
      "metadata": {
        "id": "mqu65I-PFV6x"
      },
      "execution_count": null,
      "outputs": []
    },
    {
      "cell_type": "code",
      "source": [
        "#This code is setting up a linear programming problem for portfolio optimization.\n",
        "# It creates a mapping from stock tickers to their indexes, computes a weighted sum of stock returns (where the weights are decision variables),\n",
        "# and adds this sum to a linear programming problem, as part of the objective function.\n",
        "\n",
        "# --- Ensure series are labeled by tickers (robust even if they already are) ---\n",
        "portfolio_mean_returns_series = pd.Series(portfolio_mean_returns_series, index=tickers)\n",
        "betastocks = pd.Series(betastocks, index=tickers)\n",
        "\n",
        "# Consistent ordering\n",
        "sorted_tickers = sorted(tickers)\n",
        "\n",
        "# Reindex to that order (avoids any mismatch)\n",
        "mu = portfolio_mean_returns_series.reindex(sorted_tickers)\n",
        "beta = betastocks.reindex(sorted_tickers)\n",
        "\n",
        "# --- Define LP: maximize expected return ---\n",
        "prob = pl.LpProblem(\"PortfolioOptimization\", pl.LpMaximize)\n",
        "\n",
        "# Decision variables: weights per ticker (long-only; adjust bounds as needed)\n",
        "stocks_vars = pl.LpVariable.dicts(\"w\", sorted_tickers, lowBound=0.0, upBound=1.0)\n",
        "\n",
        "# Objective: sum_i mu_i * w_i\n",
        "prob += pl.lpSum(mu[t] * stocks_vars[t] for t in sorted_tickers)\n",
        "\n",
        "# Constraints\n",
        "# 1) Full investment\n",
        "prob += pl.lpSum(stocks_vars[t] for t in sorted_tickers) == 1.0\n",
        "\n",
        "# 2) Target beta\n",
        "prob += pl.lpSum(beta[t] * stocks_vars[t] for t in sorted_tickers) == float(BetaTarget)\n",
        "\n",
        "# An .lp file is created to summarize all the optimization:\n",
        "\n",
        "prob.writeLP(\"WeightsPortfolioCAPM.lp\")\n"
      ],
      "metadata": {
        "id": "8mPiV8oYFaF8"
      },
      "execution_count": null,
      "outputs": []
    },
    {
      "cell_type": "code",
      "source": [
        "# The entire optimization approach is presented:\n",
        "print(prob)\n"
      ],
      "metadata": {
        "id": "VoUwbwM_FbjO"
      },
      "execution_count": null,
      "outputs": []
    },
    {
      "cell_type": "code",
      "source": [
        "# We proceed to solve the optimization:\n",
        "\n",
        "prob.solve() # This line executes the optimization problem and returns the status code of the solution; 1 indicates that an optimal solution was found successfully; 0 means the solver did not find an optimal solution\n"
      ],
      "metadata": {
        "id": "QkBiMdIRFgvy"
      },
      "execution_count": null,
      "outputs": []
    },
    {
      "cell_type": "code",
      "source": [],
      "metadata": {
        "id": "b3M8oo11FiF3"
      },
      "execution_count": null,
      "outputs": []
    },
    {
      "cell_type": "code",
      "source": [
        "# The status of the optimization is indicated:\n",
        "\n",
        "print (\"Status:\", pl.LpStatus[prob.status])\n"
      ],
      "metadata": {
        "id": "qSc6l4VpFkVk"
      },
      "execution_count": null,
      "outputs": []
    },
    {
      "cell_type": "code",
      "source": [
        "# The results are printed:\n",
        "\n",
        "print(\"Asset Allocation (%)\")\n",
        "print(\"________________\")\n",
        "for v in prob.variables():\n",
        "    print (v.name, \"=\", round(v.varValue*100,2))\n",
        "print(\"\\n\")\n",
        "\n",
        "print(\"Portfolio Performance\")\n",
        "print(\"_____________________\")\n",
        "print(\"Beta =\", BetaTarget)\n",
        "print (\"Expected Return (%)=\", round(pl.value(prob.objective)*100,2))\n",
        "CAPMreturnTarget=risk_free_rate+BetaTarget*(market_mean_return-risk_free_rate)\n",
        "print(\"Required Return (%)=\", round(CAPMreturnTarget*100,2))\n"
      ],
      "metadata": {
        "id": "4iG8bNPiFoOK"
      },
      "execution_count": null,
      "outputs": []
    }
  ]
}