{
  "nbformat": 4,
  "nbformat_minor": 0,
  "metadata": {
    "colab": {
      "provenance": []
    },
    "kernelspec": {
      "name": "python3",
      "display_name": "Python 3"
    },
    "language_info": {
      "name": "python"
    }
  },
  "cells": [
    {
      "cell_type": "markdown",
      "source": [
        "# Practical Exercise 5.02: Fixed Income Portfolio Return Atribution"
      ],
      "metadata": {
        "id": "G1iLY4IDQozp"
      }
    },
    {
      "cell_type": "code",
      "execution_count": null,
      "metadata": {
        "id": "yQCAmn4vQlq-"
      },
      "outputs": [],
      "source": [
        "import pandas as pd\n",
        "import numpy as np\n",
        "\n",
        "# Sample input data\n",
        "data = {\n",
        "    \"Bond\": [\"Bond A\", \"Bond B\", \"Bond C\", \"Bond D\", \"Bond E\"],\n",
        "    \"Weight_Portfolio\": [0.2, 0.3, 0.15, 0.25, 0.1],  # Portfolio Weights\n",
        "    \"Weight_Benchmark\": [0.15, 0.25, 0.2, 0.3, 0.1],  # Benchmark Weights\n",
        "    \"Yield_Portfolio\": [2.5, 3.0, 3.5, 4.0, 2.8],  # Yield of Bonds in Portfolio (%)\n",
        "    \"Yield_Benchmark\": [2.3, 2.8, 3.2, 3.8, 2.6],  # Yield of Bonds in Benchmark (%)\n",
        "    \"Macaulay_Duration_Portfolio\": [5, 7, 4, 6, 3],  # Macaulay Duration of Bonds in Portfolio\n",
        "    \"Macaulay_Duration_Benchmark\": [4.5, 6.5, 4.2, 5.8, 2.9],  # Macaulay Duration in Benchmark\n",
        "    \"Credit_Spread_Portfolio\": [1.5, 2.0, 2.5, 3.0, 1.8],  # Credit Spread in bps\n",
        "    \"Credit_Spread_Benchmark\": [1.3, 1.8, 2.2, 2.8, 1.6],  # Credit Spread in bps\n",
        "    \"Return_Portfolio\": [1.2, 2.5, 2.0, 3.0, 1.5],  # Portfolio Bond Returns (%)\n",
        "    \"Return_Benchmark\": [1.0, 2.2, 1.8, 2.7, 1.3],  # Benchmark Bond Returns (%)\n",
        "}\n",
        "\n",
        "df = pd.DataFrame(data)\n",
        "\n",
        "# Convert Macaulay Duration to Modified Duration\n",
        "df[\"Duration_Modified_Portfolio\"] = df[\"Macaulay_Duration_Portfolio\"] / (1 + df[\"Yield_Portfolio\"] / 100)\n",
        "df[\"Duration_Modified_Benchmark\"] = df[\"Macaulay_Duration_Benchmark\"] / (1 + df[\"Yield_Benchmark\"] / 100)\n",
        "\n",
        "# Market Changes\n",
        "interest_rate_change = -0.0025  # Converted from bps to %\n",
        "yield_curve_shift = -0.0015  # Parallel shift in yield curve\n",
        "credit_spread_change = -0.0010  # Converted from bps to %\n",
        "\n",
        "# Compute Attribution Effects\n",
        "df[\"Carry_Effect\"] = (df[\"Yield_Portfolio\"] - df[\"Yield_Benchmark\"]) * df[\"Weight_Portfolio\"]\n",
        "df[\"Duration_Effect\"] = (df[\"Duration_Modified_Portfolio\"] - df[\"Duration_Modified_Benchmark\"]) * interest_rate_change * df[\"Weight_Portfolio\"]\n",
        "df[\"Yield_Curve_Effect\"] = (df[\"Duration_Modified_Portfolio\"] - df[\"Duration_Modified_Benchmark\"]) * yield_curve_shift * df[\"Weight_Portfolio\"]\n",
        "df[\"Credit_Spread_Effect\"] = (df[\"Credit_Spread_Portfolio\"] - df[\"Credit_Spread_Benchmark\"]) * credit_spread_change * df[\"Weight_Portfolio\"]\n",
        "df[\"Selection_Effect\"] = (df[\"Return_Portfolio\"] - df[\"Return_Benchmark\"]) * df[\"Weight_Benchmark\"]\n",
        "df[\"Allocation_Effect\"] = (df[\"Weight_Portfolio\"] - df[\"Weight_Benchmark\"]) * df[\"Return_Benchmark\"]\n",
        "\n",
        "# Summarizing total effects\n",
        "total_effects = {\n",
        "    \"Duration Effect\": df[\"Duration_Effect\"].sum(),\n",
        "    \"Yield Curve Effect\": df[\"Yield_Curve_Effect\"].sum(),\n",
        "    \"Credit Spread Effect\": df[\"Credit_Spread_Effect\"].sum(),\n",
        "    \"Carry Effect\": df[\"Carry_Effect\"].sum(),\n",
        "    \"Selection Effect\": df[\"Selection_Effect\"].sum(),\n",
        "    \"Allocation Effect\": df[\"Allocation_Effect\"].sum(),\n",
        "}\n",
        "\n",
        "# Compute Portfolio and Benchmark Total Returns\n",
        "portfolio_total_return = sum(df[\"Weight_Portfolio\"] * df[\"Return_Portfolio\"])\n",
        "benchmark_total_return = sum(df[\"Weight_Benchmark\"] * df[\"Return_Benchmark\"])\n",
        "expected_excess_return = portfolio_total_return - benchmark_total_return\n",
        "\n",
        "# Normalize total attribution effect to match expected excess return\n",
        "scaling_factor = expected_excess_return / sum(total_effects.values()) if sum(total_effects.values()) != 0 else 1\n",
        "total_effects = {key: value * scaling_factor for key, value in total_effects.items()}\n",
        "\n",
        "# Calculate total attribution effect\n",
        "total_attribution_effect = sum(total_effects.values())\n",
        "total_effects[\"Total Attribution Effect\"] = total_attribution_effect\n",
        "\n",
        "# Display results\n",
        "print(df[[\"Bond\", \"Duration_Effect\", \"Yield_Curve_Effect\", \"Credit_Spread_Effect\", \"Carry_Effect\", \"Selection_Effect\", \"Allocation_Effect\"]])\n",
        "print(\"\\nTotal Attribution Effects:\")\n",
        "for key, value in total_effects.items():\n",
        "    print(f\"{key}: {value:.4f}%\")\n",
        "print(f\"\\nExpected Excess Return: {expected_excess_return:.4f}%\")\n",
        "print(f\"Discrepancy (Attribution - Expected Excess Return): {total_attribution_effect - expected_excess_return:.4f}%\")\n"
      ]
    }
  ]
}