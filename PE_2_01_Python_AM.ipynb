{
  "nbformat": 4,
  "nbformat_minor": 0,
  "metadata": {
    "colab": {
      "provenance": []
    },
    "kernelspec": {
      "name": "python3",
      "display_name": "Python 3"
    },
    "language_info": {
      "name": "python"
    }
  },
  "cells": [
    {
      "cell_type": "markdown",
      "source": [
        "# Practical Exercise 2.01: Retrieving Market Indexes Data"
      ],
      "metadata": {
        "id": "-GYbTQvsv-CQ"
      }
    },
    {
      "cell_type": "code",
      "execution_count": null,
      "metadata": {
        "id": "cDH7t0whBMVe"
      },
      "outputs": [],
      "source": [
        "import yfinance as yf\n",
        "import pandas as pd\n",
        "import matplotlib.pyplot as plt\n",
        "\n",
        "# Define market index symbols\n",
        "indexes = {\n",
        "    \"S&P 500\": \"^GSPC\",\n",
        "    \"NASDAQ 100\": \"^NDX\",\n",
        "    \"Dow Jones Industrial\": \"^DJI\",\n",
        "    \"Russell 2000\": \"^RUT\"\n",
        "}\n",
        "\n",
        "# Download historical data\n",
        "start_date = \"2010-01-01\"\n",
        "end_date = \"2025-01-01\"\n",
        "index_data = {}\n",
        "\n",
        "for name, symbol in indexes.items():\n",
        "    print(f\" Downloading data for {name} ({symbol})...\")\n",
        "    data = yf.download(symbol, start=start_date, end=end_date,auto_adjust=False, actions=False)['Adj Close']\n",
        "    index_data[name] = data.squeeze()\n",
        "    print(f\" Data stored for {name}, first few rows:\")\n",
        "    print(index_data[name].head())\n",
        "\n",
        "if not index_data:\n",
        "    raise ValueError(\"No valid data found for any indexes.\")\n",
        "\n",
        "df = pd.DataFrame(index_data)\n",
        "df.dropna(inplace=True)\n",
        "\n",
        "\n",
        "\n",
        "\n",
        "# Plotting\n",
        "fig, ax1 = plt.subplots(figsize=(14, 7))\n",
        "\n",
        "# Left Y-axis: S&P 500 and Russell 2000\n",
        "color1 = 'tab:blue'\n",
        "color2 = 'tab:green'\n",
        "ax1.set_xlabel('Date')\n",
        "ax1.set_ylabel('S&P 500 / Russell 2000', color=color1)\n",
        "ax1.plot(df.index, df['S&P 500'], label='S&P 500', color=color1)\n",
        "ax1.plot(df.index, df['Russell 2000'], label='Russell 2000', color=color2)\n",
        "ax1.tick_params(axis='y', labelcolor=color1)\n",
        "\n",
        "# Right Y-axis: NASDAQ 100 and Dow Jones\n",
        "ax2 = ax1.twinx()\n",
        "color3 = 'tab:orange'\n",
        "color4 = 'tab:red'\n",
        "ax2.set_ylabel('NASDAQ 100 / Dow Jones', color=color3)\n",
        "ax2.plot(df.index, df['NASDAQ 100'], label='NASDAQ 100', color=color3)\n",
        "ax2.plot(df.index, df['Dow Jones Industrial'], label='Dow Jones Industrial', color=color4)\n",
        "ax2.tick_params(axis='y', labelcolor=color3)\n",
        "\n",
        "# Combine legends from both axes\n",
        "lines1, labels1 = ax1.get_legend_handles_labels()\n",
        "lines2, labels2 = ax2.get_legend_handles_labels()\n",
        "ax1.legend(lines1 + lines2, labels1 + labels2, loc='upper left')\n",
        "\n",
        "plt.title(\"Market Indexes with Dual Y-Axis (2010–2025)\")\n",
        "plt.grid()\n",
        "plt.tight_layout()\n",
        "plt.show()\n"
      ]
    }
  ]
}