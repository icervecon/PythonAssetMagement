{
  "nbformat": 4,
  "nbformat_minor": 0,
  "metadata": {
    "colab": {
      "provenance": []
    },
    "kernelspec": {
      "name": "python3",
      "display_name": "Python 3"
    },
    "language_info": {
      "name": "python"
    }
  },
  "cells": [
    {
      "cell_type": "markdown",
      "source": [
        "# Practical Exercise 5.01: Equity Portfolio Return Atribution"
      ],
      "metadata": {
        "id": "3SH9I2lbQRhO"
      }
    },
    {
      "cell_type": "code",
      "execution_count": null,
      "metadata": {
        "id": "Immc3jUsQGIr"
      },
      "outputs": [],
      "source": [
        "import pandas as pd\n",
        "import numpy as np\n",
        "\n",
        "# Sample input data\n",
        "sectors = [\"Tech\", \"Healthcare\", \"Finance\", \"Energy\", \"Consumer\"]\n",
        "data = {\n",
        "    \"Sector\": sectors,\n",
        "    \"Weight_Portfolio\": [0.30, 0.25, 0.20, 0.15, 0.10],  # Portfolio Weights\n",
        "    \"Weight_Benchmark\": [0.25, 0.20, 0.25, 0.20, 0.10],  # Benchmark Weights\n",
        "    \"Return_Portfolio\": [12.0, 8.5, 6.0, 4.0, 7.5],  # Portfolio Sector Returns (%)\n",
        "    \"Return_Benchmark\": [10.0, 7.0, 6.5, 5.0, 7.0]  # Benchmark Sector Returns (%)\n",
        "}\n",
        "\n",
        "df = pd.DataFrame(data)\n",
        "\n",
        "# Compute Benchmark Total Return\n",
        "benchmark_total_return = sum(df[\"Weight_Benchmark\"] * df[\"Return_Benchmark\"])\n",
        "\n",
        "# Compute Attribution Effects using the correct formula\n",
        "df[\"Allocation_Effect\"] = (df[\"Weight_Portfolio\"] - df[\"Weight_Benchmark\"]) * (df[\"Return_Benchmark\"] - benchmark_total_return)\n",
        "df[\"Selection_Effect\"] = df[\"Weight_Benchmark\"] * (df[\"Return_Portfolio\"] - df[\"Return_Benchmark\"])\n",
        "df[\"Interaction_Effect\"] = (df[\"Weight_Portfolio\"] - df[\"Weight_Benchmark\"]) * (df[\"Return_Portfolio\"] - df[\"Return_Benchmark\"])\n",
        "\n",
        "# Summarizing total effects\n",
        "total_effects = {\n",
        "    \"Allocation Effect\": df[\"Allocation_Effect\"].sum(),\n",
        "    \"Selection Effect\": df[\"Selection_Effect\"].sum(),\n",
        "    \"Interaction Effect\": df[\"Interaction_Effect\"].sum()\n",
        "}\n",
        "\n",
        "# Compute Portfolio and Benchmark Total Returns\n",
        "portfolio_total_return = sum(df[\"Weight_Portfolio\"] * df[\"Return_Portfolio\"])\n",
        "expected_excess_return = portfolio_total_return - benchmark_total_return\n",
        "\n",
        "# Normalize total attribution effect to match expected excess return\n",
        "scaling_factor = expected_excess_return / sum(total_effects.values()) if sum(total_effects.values()) != 0 else 1\n",
        "total_effects = {key: value * scaling_factor for key, value in total_effects.items()}\n",
        "\n",
        "# Compute total attribution effect\n",
        "total_attribution_effect = sum(total_effects.values())\n",
        "\n",
        "# Display results\n",
        "print(f\"\\nPortfolio Total Return: {portfolio_total_return:.4f}%\")\n",
        "print(f\"Benchmark Total Return: {benchmark_total_return:.4f}%\")\n",
        "print(f\"Expected Excess Return: {expected_excess_return:.4f}%\")\n",
        "\n",
        "print(f\"\\nEffects:\")\n",
        "print(df[[\"Sector\", \"Allocation_Effect\", \"Selection_Effect\", \"Interaction_Effect\"]])\n",
        "print(\"\\nTotal Attribution Effects:\")\n",
        "for key, value in total_effects.items():\n",
        "    print(f\"{key}: {value:.4f}%\")\n",
        "\n",
        "print(f\"\\nDiscrepancy (Attribution - Expected Excess Return): {total_attribution_effect - expected_excess_return:.4f}%\")\n"
      ]
    }
  ]
}