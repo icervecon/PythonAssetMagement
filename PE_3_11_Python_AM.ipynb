{
  "nbformat": 4,
  "nbformat_minor": 0,
  "metadata": {
    "colab": {
      "provenance": []
    },
    "kernelspec": {
      "name": "python3",
      "display_name": "Python 3"
    },
    "language_info": {
      "name": "python"
    }
  },
  "cells": [
    {
      "cell_type": "markdown",
      "source": [
        "# Practical Exercise 3.11: Monte Carlo Simulation (with t-Student distribution)"
      ],
      "metadata": {
        "id": "jOf1UkrlIbrX"
      }
    },
    {
      "cell_type": "code",
      "execution_count": null,
      "metadata": {
        "id": "RA-dMZXtIW8l"
      },
      "outputs": [],
      "source": [
        "import numpy as np\n",
        "import matplotlib.pyplot as plt\n",
        "\n",
        "def monte_carlo_tstudent_simulation(initial_value, mu, sigma, days, simulations, degrees_of_freedom):\n",
        "    \"\"\"\n",
        "    Simulate the portfolio value using Monte Carlo method with t-Student distribution.\n",
        "\n",
        "    Parameters:\n",
        "    initial_value (float): Initial portfolio value.\n",
        "    mu (float): Mean of log returns (annualized).\n",
        "    sigma (float): Volatility (standard deviation, annualized).\n",
        "    days (int): Number of trading days to simulate.\n",
        "    simulations (int): Number of simulations.\n",
        "    degrees_of_freedom (int): Degrees of freedom for the t-Student distribution.\n",
        "\n",
        "    Returns:\n",
        "    None: Displays graphs and prints statistics.\n",
        "    \"\"\"\n",
        "\n",
        "    # Convert annualized mean and volatility to daily values\n",
        "    daily_mu = mu / 252\n",
        "    daily_sigma = sigma / np.sqrt(252)\n",
        "\n",
        "    # Initialize the matrix to store simulation results\n",
        "    future_values = np.zeros((simulations, days))\n",
        "\n",
        "    # Set the initial portfolio value for all simulations\n",
        "    future_values[:, 0] = initial_value\n",
        "\n",
        "    # Perform the simulation\n",
        "    for t in range(1, days):\n",
        "        # Generate daily returns from t-distribution\n",
        "        z = np.random.standard_t(degrees_of_freedom, size=simulations) * daily_sigma + daily_mu\n",
        "        # Calculate the portfolio value for the next day\n",
        "        future_values[:, t] = future_values[:, t - 1] * (1 + z)\n",
        "\n",
        "    # Plotting some simulated trajectories\n",
        "    plt.figure(figsize=(10, 6))\n",
        "    plt.plot(future_values.T, lw=1, alpha=0.1)\n",
        "    plt.title('Monte Carlo simulations for the value of a portfolio (t-Student distribution)')\n",
        "    plt.xlabel('Days')\n",
        "    plt.ylabel('Portfolio Value')\n",
        "    plt.grid(True)  # Adding grid for better visualization\n",
        "    plt.show()\n",
        "\n",
        "    # Analyze results\n",
        "    final_value = future_values[:, -1]\n",
        "\n",
        "    # Plot distribution of the final portfolio values\n",
        "    plt.figure(figsize=(10, 6))\n",
        "    plt.hist(final_value, bins=50, alpha=0.75)\n",
        "    plt.title('Simulated Final Value Distribution (t-Student distribution)')\n",
        "    plt.xlabel('Portfolio Value')\n",
        "    plt.ylabel('Frequency')\n",
        "    plt.grid(True)  # Adding grid for better visualization\n",
        "    plt.show()\n",
        "\n",
        "    # Statistics\n",
        "    mean_final = np.mean(final_value)\n",
        "    std_final = np.std(final_value)\n",
        "    percentiles = np.percentile(final_value, [5, 50, 95])\n",
        "\n",
        "    # Print results with thousands separators and two decimal places\n",
        "    print(f\"Final average value: ${mean_final:,.2f}\")\n",
        "    print(f\"Standard deviation of final value: ${std_final:,.2f}\")\n",
        "    print(f\"Percentile 5%: ${percentiles[0]:,.2f}\")\n",
        "    print(f\"Percentile 50% (Median): ${percentiles[1]:,.2f}\")\n",
        "    print(f\"Percentile 95%: ${percentiles[2]:,.2f}\")\n",
        "\n",
        "# Example usage\n",
        "monte_carlo_tstudent_simulation(\n",
        "    initial_value=1000000,\n",
        "    mu=0.07,  # Annualized mean return (7%)\n",
        "    sigma=0.15,  # Annualized volatility (15%)\n",
        "    days=252,  # Simulating for one year (252 trading days)\n",
        "    simulations=10000,\n",
        "    degrees_of_freedom=5  # Degrees of freedom for the t-Student distribution\n",
        ")\n"
      ]
    }
  ]
}