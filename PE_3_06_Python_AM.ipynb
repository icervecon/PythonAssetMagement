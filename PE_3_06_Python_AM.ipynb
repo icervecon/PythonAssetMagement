{
  "nbformat": 4,
  "nbformat_minor": 0,
  "metadata": {
    "colab": {
      "provenance": []
    },
    "kernelspec": {
      "name": "python3",
      "display_name": "Python 3"
    },
    "language_info": {
      "name": "python"
    }
  },
  "cells": [
    {
      "cell_type": "markdown",
      "source": [
        "# Practical Exercise 3.06: Historical Simulation VaR"
      ],
      "metadata": {
        "id": "ZGpTwX2CGYDd"
      }
    },
    {
      "cell_type": "code",
      "execution_count": null,
      "metadata": {
        "id": "cHzBhsfFF_X6"
      },
      "outputs": [],
      "source": [
        "import yfinance as yf\n",
        "import numpy as np\n",
        "import pandas as pd\n",
        "\n",
        "#Download historical data\n",
        "\n",
        "symbols = ['AAPL', 'AMZN', 'META', 'GOOGL', 'MSFT', 'NVDA', 'TSLA']\n",
        "start = '2021-01-01'\n",
        "end = None  # This will download data up to the present\n",
        "data = yf.download(symbols, start=start, end=end, group_by='symbols', progress=False, auto_adjust=False, actions=False)\n",
        "\n",
        "# Extract adjusted close prices\n",
        "\n",
        "adj_close_data = data.xs('Adj Close', level=1, axis=1,)\n",
        "adj_close_data= adj_close_data[symbols]\n",
        "\n",
        "#Calculate daily returns for each asset\n",
        "\n",
        "daily_returns = adj_close_data.pct_change(fill_method=None).dropna()\n",
        "daily_returns = daily_returns.reindex(columns=symbols)\n",
        "\n",
        "# Define portfolio weights (e.g., equal-weighted portfolio)\n",
        "\n",
        "num_assets = len(symbols)  # Calculate the number of assets in the portfolio\n",
        "weights = np.array([1.0 / num_assets] * num_assets)  # Equally weighted portfolio\n",
        "\n",
        "# Calculate portfolio returns: Multiply each day's returns by the corresponding asset weights and sum them to get portfolio returns\n",
        "portfolio_returns = daily_returns.dot(weights)\n",
        "\n",
        "# Set the confidence level (e.g., 95% confidence level)\n",
        "\n",
        "confidence_level = 0.95\n",
        "\n",
        "# Sort the portfolio returns to identify worst-case losses\n",
        "\n",
        "sorted_returns = np.sort(portfolio_returns)\n",
        "\n",
        "# Calculate the VaR: VaR is the value at the (1-confidence_level) percentile of the sorted returns\n",
        "\n",
        "var_percentile = (1 - confidence_level) * 100\n",
        "VaR = np.percentile(sorted_returns, var_percentile)\n",
        "\n",
        "# Calculate VaR in dollar terms based on the portfolio's total value\n",
        "\n",
        "portfolio_value = 1_000_000  # Example portfolio value of $1 million\n",
        "VaR_value = portfolio_value * -VaR  # VaR value (negative because it's a loss)\n",
        "\n",
        "# Print the results\n",
        "\n",
        "print(f\"Historical Simulation VaR ({confidence_level*100}% confidence level): ${VaR_value:,.2f}\")\n"
      ]
    }
  ]
}