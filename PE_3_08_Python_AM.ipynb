{
  "nbformat": 4,
  "nbformat_minor": 0,
  "metadata": {
    "colab": {
      "provenance": []
    },
    "kernelspec": {
      "name": "python3",
      "display_name": "Python 3"
    },
    "language_info": {
      "name": "python"
    }
  },
  "cells": [
    {
      "cell_type": "markdown",
      "source": [
        "# Practical Exercise 3.08: Monte Carlo VaR"
      ],
      "metadata": {
        "id": "Z5DSB-glHYW2"
      }
    },
    {
      "cell_type": "code",
      "execution_count": null,
      "metadata": {
        "id": "H1guiakUHRTl"
      },
      "outputs": [],
      "source": [
        "import numpy as np\n",
        "from scipy.stats import norm\n",
        "\n",
        "# Function to calculate VaR using Monte Carlo simulation with user inputs\n",
        "def calculate_var_monte_carlo(num_simulations, confidence_level, portfolio_value, annual_volatility, period_length):\n",
        "    # Calculate the Z-score for the given confidence level\n",
        "    z_score = norm.ppf(confidence_level)\n",
        "\n",
        "    # Determine the volatility based on the period length\n",
        "    if period_length.lower() == 'daily':\n",
        "        volatility = annual_volatility / np.sqrt(252)\n",
        "    elif period_length.lower() == 'monthly':\n",
        "        volatility = annual_volatility / np.sqrt(12)\n",
        "    elif period_length.lower() == 'biannual':\n",
        "        volatility = annual_volatility / np.sqrt(2)\n",
        "    elif period_length.lower() == 'annually':\n",
        "        volatility = annual_volatility\n",
        "    else:\n",
        "        raise ValueError(\"Period length must be 'daily', 'monthly', or 'annually'\")\n",
        "\n",
        "    # Generate random returns based on the chosen period's volatility\n",
        "    random_returns = np.random.normal(0, volatility, num_simulations)\n",
        "\n",
        "    # Simulate portfolio values\n",
        "    simulated_portfolio_values = portfolio_value * (1 + random_returns)\n",
        "\n",
        "    # Calculate the potential losses\n",
        "    losses = portfolio_value - simulated_portfolio_values\n",
        "\n",
        "    # Calculate the VaR at the specified confidence level\n",
        "    var_monte_carlo = np.percentile(losses, (1 - confidence_level / 100) * 100)\n",
        "\n",
        "    # Report VaR as an absolute value\n",
        "    formatted_var_monte_carlo = \"${:,.2f}\".format(abs(var_monte_carlo))\n",
        "\n",
        "    return formatted_var_monte_carlo, z_score\n",
        "\n",
        "# Input data\n",
        "num_simulations = int(input(\"Enter the number of simulations (e.g., 10000 for 10,000): \"))\n",
        "confidence_level = float(input(\"Enter the confidence level (e.g., 0.95 for 95%): \"))\n",
        "portfolio_value = float(input(\"Enter the amount invested (e.g., 1000000 for 1,000,000): \"))\n",
        "annual_volatility = float(input(\"Enter the annual volatility (e.g., 0.25 for 25%): \"))\n",
        "period_length = str(input(\"Enter the period length (e.g., daily, monthly, biannual, or annually):\"))\n",
        "\n",
        "# Calculate VaR\n",
        "var_result, calculated_z_score = calculate_var_monte_carlo(num_simulations, confidence_level, portfolio_value, annual_volatility, period_length)\n",
        "\n",
        "# Format and print the result\n",
        "\n",
        "print('Z-score:',round(calculated_z_score,3))\n",
        "formatted_volatility=\"{:,.2f}%\".format(abs(annual_volatility*100))\n",
        "print('Annual Volatility:', formatted_volatility)\n",
        "print('Period length:',period_length )\n",
        "print('Monte Carlo VaR=', var_result)\n"
      ]
    }
  ]
}