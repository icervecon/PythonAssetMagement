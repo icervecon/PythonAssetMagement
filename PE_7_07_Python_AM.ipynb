{
  "nbformat": 4,
  "nbformat_minor": 0,
  "metadata": {
    "colab": {
      "provenance": []
    },
    "kernelspec": {
      "name": "python3",
      "display_name": "Python 3"
    },
    "language_info": {
      "name": "python"
    }
  },
  "cells": [
    {
      "cell_type": "markdown",
      "source": [
        "# Practical Exercise 7.07: Smart Beta Portfolio (momentum) versus Index"
      ],
      "metadata": {
        "id": "NvrcYpBZq470"
      }
    },
    {
      "cell_type": "code",
      "execution_count": null,
      "metadata": {
        "id": "J37rWhoQqw5W"
      },
      "outputs": [],
      "source": [
        "import yfinance as yf\n",
        "import pandas as pd\n",
        "import numpy as np\n",
        "import matplotlib.pyplot as plt\n",
        "\n",
        "# Step 1: Define IBEX 35 Tickers\n",
        "ibex35_tickers = [\n",
        "    \"SAN.MC\", \"TEF.MC\", \"ITX.MC\", \"BBVA.MC\", \"IBE.MC\", \"ACS.MC\", \"ANA.MC\",\n",
        "    \"AENA.MC\", \"FER.MC\", \"CLNX.MC\", \"REP.MC\", \"ENG.MC\", \"RED.MC\", \"AMS.MC\",\n",
        "    \"GRF.MC\", \"MAP.MC\", \"NTGY.MC\", \"MEL.MC\", \"CABK.MC\", \"SAB.MC\",\n",
        "    \"COL.MC\", \"ELE.MC\", \"LOG.MC\", \"IAG.MC\", \"MRL.MC\", \"MTS.MC\", \"ACX.MC\", \"IDR.MC\", \"SCYR.MC\", \"ROVI.MC\", \"UNI.MC\", \"ANE.MC\",\n",
        "    \"FDR.MC\", \"SLR.MC\", \"BKT.MC\"\n",
        "]\n",
        "\n",
        "# Fetch historical price data for valid tickers\n",
        "price_data = yf.download(ibex35_tickers, start=\"2019-01-01\", end=\"2025-01-01\", auto_adjust=False, actions=False)['Adj Close']\n",
        "\n",
        "# Step 2: Handle Missing Data\n",
        "price_data = price_data.ffill().bfill()  # Fill missing data\n",
        "\n",
        "# Step 3: Calculate Momentum Factor\n",
        "momentum = (price_data / price_data.shift(252)) - 1\n",
        "momentum = momentum.iloc[-1]  # Use the most recent momentum values\n",
        "momentum = momentum.clip(lower=0).dropna()  # Remove negative or invalid values\n",
        "momentum_weights = momentum / momentum.sum()  # Normalize weights\n",
        "\n",
        "# Step 4: Portfolio Construction\n",
        "portfolio_weights = pd.DataFrame(index=price_data.index, columns=price_data.columns)\n",
        "for ticker in price_data.columns:\n",
        "    portfolio_weights[ticker] = momentum_weights.get(ticker, 0)\n",
        "portfolio_weights = portfolio_weights.div(portfolio_weights.sum(axis=1), axis=0)\n",
        "\n",
        "# Step 5: Backtesting\n",
        "returns = price_data.pct_change().dropna()\n",
        "portfolio_returns = (portfolio_weights.shift() * returns).sum(axis=1)\n",
        "cumulative_returns = (1 + portfolio_returns).cumprod()\n",
        "\n",
        "# Fetch and process IBEX 35 data\n",
        "ibex35_index = \"^IBEX\"\n",
        "ibex_index_data = yf.download(ibex35_index, start=\"2019-01-01\", end=\"2025-01-01\", auto_adjust=False, actions=False)['Adj Close']\n",
        "ibex_index_data = ibex_index_data.ffill().bfill()  # Fill missing data\n",
        "ibex_index_returns = ibex_index_data.pct_change().dropna()\n",
        "\n",
        "# Calculate annualized volatility (ensure scalar)\n",
        "portfolio_volatility = portfolio_returns.std() * np.sqrt(252)\n",
        "index_volatility = ibex_index_returns.std() * np.sqrt(252)\n",
        "\n",
        "# Convert to scalar using iloc[0] if necessary\n",
        "portfolio_volatility = portfolio_volatility.iloc[0] if isinstance(portfolio_volatility, pd.Series) else portfolio_volatility\n",
        "index_volatility = index_volatility.iloc[0] if isinstance(index_volatility, pd.Series) else index_volatility\n",
        "\n",
        "# Plot cumulative returns\n",
        "plt.figure(figsize=(12, 6))\n",
        "plt.plot(cumulative_returns, label=\"Smart Beta Portfolio (Momentum)\", color=\"green\")\n",
        "plt.plot((1 + ibex_index_returns).cumprod(), label=\"IBEX 35 Index\", color=\"blue\")\n",
        "plt.title(\"Comparison of Momentum-Based Portfolio vs. IBEX 35 Index\")\n",
        "plt.xlabel(\"Date\")\n",
        "plt.ylabel(\"Cumulative Returns\")\n",
        "plt.legend()\n",
        "plt.grid()\n",
        "plt.show()\n",
        "\n",
        "# Step 6: Performance Metrics\n",
        "portfolio_annualized_return = (cumulative_returns.iloc[-1] ** (1 / (cumulative_returns.index[-1].year - cumulative_returns.index[0].year))) - 1\n",
        "index_annualized_return = ((1 + ibex_index_returns).cumprod().iloc[-1] ** (1 / (ibex_index_returns.index[-1].year - ibex_index_returns.index[0].year))) - 1\n",
        "\n",
        "# Convert to scalar using iloc[0] if necessary\n",
        "portfolio_annualized_return = portfolio_annualized_return.iloc[0] if isinstance(portfolio_annualized_return, pd.Series) else portfolio_annualized_return\n",
        "index_annualized_return = index_annualized_return.iloc[0] if isinstance(index_annualized_return, pd.Series) else index_annualized_return\n",
        "\n",
        "# Sharpe Ratios\n",
        "risk_free_rate = 0.01\n",
        "portfolio_sharpe_ratio = (portfolio_annualized_return - risk_free_rate) / portfolio_volatility\n",
        "index_sharpe_ratio = (index_annualized_return - risk_free_rate) / index_volatility\n",
        "\n",
        "# Display Results\n",
        "print(\"\\nPerformance Comparison:\")\n",
        "print(f\"Momentum Portfolio Annualized Return: {portfolio_annualized_return:.2%}\")\n",
        "print(f\"IBEX 35 Index Annualized Return: {index_annualized_return:.2%}\")\n",
        "print(f\"Momentum Portfolio Volatility: {portfolio_volatility:.2%}\")\n",
        "print(f\"IBEX 35 Index Volatility: {index_volatility:.2%}\")\n",
        "print(f\"Momentum Portfolio Sharpe Ratio: {portfolio_sharpe_ratio:.2f}\")\n",
        "print(f\"IBEX 35 Index Sharpe Ratio: {index_sharpe_ratio:.2f}\")\n"
      ]
    }
  ]
}