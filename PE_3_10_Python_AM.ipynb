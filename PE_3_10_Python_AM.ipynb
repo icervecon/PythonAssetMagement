{
  "nbformat": 4,
  "nbformat_minor": 0,
  "metadata": {
    "colab": {
      "provenance": []
    },
    "kernelspec": {
      "name": "python3",
      "display_name": "Python 3"
    },
    "language_info": {
      "name": "python"
    }
  },
  "cells": [
    {
      "cell_type": "markdown",
      "source": [
        "# Practical Exercise 3.10: Monte Carlo Simulation (with log-normal distribution)"
      ],
      "metadata": {
        "id": "toHbhuEDIFAY"
      }
    },
    {
      "cell_type": "code",
      "execution_count": null,
      "metadata": {
        "id": "XLYS4CnAH-LI"
      },
      "outputs": [],
      "source": [
        "import numpy as np\n",
        "import matplotlib.pyplot as plt\n",
        "\n",
        "# Parameters\n",
        "initial_value = 1_000_000  # Initial portfolio value\n",
        "mu = 0.001451  # Mean of log returns\n",
        "sigma = 0.01701  # Volatility\n",
        "days = 252  # Number of days to simulate\n",
        "simulations = 10000  # Number of simulations\n",
        "\n",
        "# Initialize the matrix to store simulation results\n",
        "future_values = np.zeros((simulations, days))\n",
        "\n",
        "# Set the initial portfolio value for all simulations\n",
        "future_values[:, 0] = initial_value\n",
        "\n",
        "# Perform the simulation\n",
        "for t in range(1, days):\n",
        "    # Generate daily lognormal returns\n",
        "    z = np.random.lognormal(mean=mu, sigma=sigma, size=simulations)\n",
        "    # Calculate the portfolio value for the next day\n",
        "    future_values[:, t] = future_values[:, t - 1] * z\n",
        "\n",
        "# Plotting some simulated trajectories\n",
        "plt.figure(figsize=(10, 6))\n",
        "plt.plot(future_values.T, lw=1, alpha=0.1)\n",
        "plt.title('Monte Carlo simulations for the value of a portfolio')\n",
        "plt.xlabel('Days')\n",
        "plt.ylabel('Portfolio Value')\n",
        "plt.show()\n",
        "\n",
        "# Analyze results\n",
        "final_value = future_values[:, -1]\n",
        "plt.figure(figsize=(10, 6))\n",
        "plt.hist(final_value, bins=50, alpha=0.75)\n",
        "plt.title('Simulated Final Value Distribution')\n",
        "plt.xlabel('Portfolio Value')\n",
        "plt.ylabel('Frequency')\n",
        "plt.show()\n",
        "\n",
        "# Statistics\n",
        "mean_final = np.mean(final_value)\n",
        "std_final = np.std(final_value)\n",
        "percentiles = np.percentile(final_value, [5, 50, 95])\n",
        "\n",
        "# Print results with thousands separators and two decimal places\n",
        "print(f\"Final average value: ${mean_final:,.2f}\")\n",
        "print(f\"Standard deviation of final value: ${std_final:,.2f}\")\n",
        "print(f\"Percentile 5%: ${percentiles[0]:,.2f}\")\n",
        "print(f\"Percentile 50% (Median): ${percentiles[1]:,.2f}\")\n",
        "print(f\"Percentile 95%: ${percentiles[2]:,.2f}\")\n"
      ]
    }
  ]
}