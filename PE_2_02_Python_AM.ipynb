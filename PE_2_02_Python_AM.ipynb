{
  "nbformat": 4,
  "nbformat_minor": 0,
  "metadata": {
    "colab": {
      "provenance": []
    },
    "kernelspec": {
      "name": "python3",
      "display_name": "Python 3"
    },
    "language_info": {
      "name": "python"
    }
  },
  "cells": [
    {
      "cell_type": "markdown",
      "source": [
        "# Practical Exercise 2.02: Handling missing values"
      ],
      "metadata": {
        "id": "_mmmxjCOwVBb"
      }
    },
    {
      "cell_type": "code",
      "execution_count": null,
      "metadata": {
        "id": "Joyl4wnlB2qa"
      },
      "outputs": [],
      "source": [
        "import pandas as pd\n",
        "import numpy as np\n",
        "import pandas_datareader.data as web\n",
        "import datetime\n",
        "\n",
        "# Define date range\n",
        "start_date = datetime.datetime(2010, 1, 1)\n",
        "end_date = datetime.datetime.today()\n",
        "\n",
        "# Attempt to get S&P 500 from FRED\n",
        "try:\n",
        "    sp500 = web.DataReader(\"SP500\", \"fred\", start_date, end_date)\n",
        "    print(\"S&P 500 data retrieved from FRED\")\n",
        "except Exception as e:\n",
        "    print(f\"Error retrieving S&P 500 from FRED: {e}\")\n",
        "\n",
        "# Check for missing values\n",
        "print(\"Missing values before treatment:\\n\", sp500.isnull().sum())\n",
        "\n",
        "# Option 1: Forward-fill (repeat last valid value)\n",
        "sp500_ffill = sp500.ffill()\n",
        "\n",
        "# Option 2: Linear interpolation\n",
        "sp500_interp = sp500.interpolate(method='linear')\n",
        "\n",
        "# Option 3: Drop missing values\n",
        "sp500_dropna = sp500.dropna()\n",
        "\n",
        "# Show results\n",
        "print(\"Missing values after forward-fill:\", sp500_ffill.isnull().sum().sum())\n",
        "print(\"Missing values after interpolation:\", sp500_interp.isnull().sum().sum())\n",
        "print(\"Missing values after dropping rows:\", sp500_dropna.isnull().sum().sum())\n"
      ]
    }
  ]
}