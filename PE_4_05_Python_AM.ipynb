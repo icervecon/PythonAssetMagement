{
  "nbformat": 4,
  "nbformat_minor": 0,
  "metadata": {
    "colab": {
      "provenance": []
    },
    "kernelspec": {
      "name": "python3",
      "display_name": "Python 3"
    },
    "language_info": {
      "name": "python"
    }
  },
  "cells": [
    {
      "cell_type": "markdown",
      "source": [
        "# Practical Exercise 4.05: Cash Flow Matching"
      ],
      "metadata": {
        "id": "XDe-Q3USLM3b"
      }
    },
    {
      "cell_type": "code",
      "execution_count": null,
      "metadata": {
        "id": "hik_IFG5LI-U"
      },
      "outputs": [],
      "source": [
        "import numpy as np\n",
        "import pandas as pd\n",
        "\n",
        "# Bond cash flows\n",
        "\n",
        "bond_flows = {\n",
        "    'A': [101.5, 0, 0, 0, 0],\n",
        "    'B': [8.75, 508.75, 0, 0, 0],\n",
        "    'C': [20, 20, 1020, 0, 0],\n",
        "    'D': [25, 25, 25, 1025, 0],\n",
        "    'E': [13.75, 13.75, 13.75, 13.75, 513.75]\n",
        "}\n",
        "\n",
        "# Cash flows from liabilities\n",
        "\n",
        "loan_flows = [450000, 450000, 450000, 450000, 15450000]\n",
        "\n",
        "# Initialize the number of b required\n",
        "\n",
        "bonds_needed = {bond: 0 for bond in bond_flows.keys()}\n",
        "\n",
        "# Function to match liability cash flows with bond cash flows\n",
        "\n",
        "def cover_flows(bond, year, bonds_needed, loan_flows):\n",
        "    num_bonds = loan_flows[year] / bond_flows[bond][year]\n",
        "    bonds_needed[bond] += num_bonds\n",
        "    for y in range(5):\n",
        "        loan_flows[y] -= num_bonds * bond_flows[bond][y]\n",
        "    return bonds_needed, loan_flows\n",
        "\n",
        "# Cover liability cash flows starting with the longest maturity\n",
        "\n",
        "for bond, year in zip(['E', 'D', 'C', 'B', 'A'], range(4, -1, -1)):\n",
        "    bonds_needed, loan_flows = cover_flows(bond, year, bonds_needed, loan_flows)\n",
        "\n",
        "# Round up the amounts of bonds needed\n",
        "\n",
        "bonds_needed = {bond: round(num,0) for bond, num in bonds_needed.items()}\n",
        "\n",
        "# Calculate the cash flows generated\n",
        "\n",
        "generated_flows = [\n",
        "    round(sum(num * bond_flows[bond][0] for bond, num in bonds_needed.items())),\n",
        "    round(sum(num * bond_flows[bond][1] for bond, num in bonds_needed.items())),\n",
        "    round(sum(num * bond_flows[bond][2] for bond, num in bonds_needed.items())),\n",
        "    round(sum(num * bond_flows[bond][3] for bond, num in bonds_needed.items())),\n",
        "    round(sum(num * bond_flows[bond][4] for bond, num in bonds_needed.items()))\n",
        "]\n",
        "\n",
        "# Show results\n",
        "\n",
        "print(\"Bonds required:\", bonds_needed)\n",
        "print(\"Cash flows generated:\", generated_flows)\n",
        "print(\"Outstanding balances:\", loan_flows)\n"
      ]
    },
    {
      "cell_type": "markdown",
      "source": [
        "Portfolio cost and surplus"
      ],
      "metadata": {
        "id": "FssLcc3lLYPG"
      }
    },
    {
      "cell_type": "code",
      "source": [
        "import pandas as pd\n",
        "\n",
        "# Bond data\n",
        "bond_yields = {\n",
        "    'A': 0.0155,\n",
        "    'B': 0.02,\n",
        "    'C': 0.0225,\n",
        "    'D': 0.0275,\n",
        "    'E': 0.0315\n",
        "}\n",
        "\n",
        "bond_flows = {\n",
        "    'A': [101.5, 0, 0, 0, 0],\n",
        "    'B': [8.75, 508.75, 0, 0, 0],\n",
        "    'C': [20, 20, 1020, 0, 0],\n",
        "    'D': [25, 25, 25, 1025, 0],\n",
        "    'E': [13.75, 13.75, 13.75, 13.75, 513.75]\n",
        "}\n",
        "\n",
        "bonds_needed = {'A': 338.0, 'B': 69.0, 'C': 35.0, 'D': 36.0, 'E': 30073.0}\n",
        "loan_amount = 15000000  # Amount of the loan\n",
        "\n",
        "\n",
        "\n",
        "# Function to calculate the price of a bond\n",
        "def calculate_bond_price(flows, yield_to_maturity):\n",
        "    return sum(flow / (1 + yield_to_maturity) ** (t + 1) for t, flow in enumerate(flows))\n",
        "\n",
        "# Calculating bond prices\n",
        "bond_prices = {bond: calculate_bond_price(flows, bond_yields[bond]) for bond, flows in bond_flows.items()}\n",
        "\n",
        "# Create the DataFrame\n",
        "df_bond_details = pd.DataFrame({\n",
        "    'Bond': bonds_needed.keys(),\n",
        "    'Quantity': bonds_needed.values(),\n",
        "    'Price': [bond_prices[bond] for bond in bonds_needed],\n",
        "    'Total Cost': [bonds_needed[bond] * bond_prices[bond] for bond in bonds_needed]\n",
        "})\n",
        "\n",
        "# Add total sum row without values in Quantity and Price\n",
        "df_bond_details.loc[len(df_bond_details)] = ['Total', '', '', df_bond_details['Total Cost'].sum()]\n",
        "\n",
        "# Format the columns\n",
        "df_bond_details['Quantity'] = df_bond_details['Quantity'].apply(lambda x: f\"{x:,.2f}\" if x != '' else '')\n",
        "df_bond_details['Price'] = df_bond_details['Price'].apply(lambda x: f\"{x:,.2f}\" if x != '' else '')\n",
        "df_bond_details['Total Cost'] = df_bond_details['Total Cost'].apply(lambda x: f\"{x:,.2f}\")\n",
        "\n",
        "# Calculate the difference with the loan amount\n",
        "total_cost_sum = df_bond_details.loc[df_bond_details['Bond'] == 'Total', 'Total Cost'].replace({',': ''}, regex=True).astype(float).values[0]\n",
        "difference = loan_amount-total_cost_sum\n",
        "\n",
        "# Add the difference to the DataFrame\n",
        "df_bond_details['Loan surplus'] = ''\n",
        "df_bond_details.loc[df_bond_details['Bond'] == 'Total', 'Loan surplus'] = f\"{difference:,.2f}\"\n",
        "\n",
        "# Reset index and hide index column\n",
        "df_bond_details.reset_index(drop=True, inplace=True)\n",
        "df_bond_details.style.hide(axis='index')\n"
      ],
      "metadata": {
        "id": "cr8Pv2AKLbdA"
      },
      "execution_count": null,
      "outputs": []
    }
  ]
}