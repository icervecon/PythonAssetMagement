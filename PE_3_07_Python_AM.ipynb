{
  "nbformat": 4,
  "nbformat_minor": 0,
  "metadata": {
    "colab": {
      "provenance": []
    },
    "kernelspec": {
      "name": "python3",
      "display_name": "Python 3"
    },
    "language_info": {
      "name": "python"
    }
  },
  "cells": [
    {
      "cell_type": "markdown",
      "source": [
        "# Practical Exercise 3.07: Parametric VaR"
      ],
      "metadata": {
        "id": "mGFlOQlXGuag"
      }
    },
    {
      "cell_type": "code",
      "execution_count": null,
      "metadata": {
        "id": "MPyaxc46GsMr"
      },
      "outputs": [],
      "source": [
        "# Parametric VaR\n",
        "\n",
        "import numpy as np\n",
        "from scipy.stats import norm\n",
        "\n",
        "# Input data\n",
        "confidence_level = float(input(\"Enter the confidence level (e.g., 0.95 for 95%): \"))\n",
        "portfolio_value = float(input(\"Enter the amount invested (e.g., 1000000 for 1,000,000): \"))\n",
        "annual_volatility = float(input(\"Enter the annual volatility (e.g., 0.25 for 25%): \"))\n",
        "period_length = str(input(\"Enter the period length (e.g., daily, monthly, biannual, or annually):\"))\n",
        "\n",
        "# Calculate the Z-score for the given confidence level\n",
        "z_score = norm.ppf(confidence_level)\n",
        "\n",
        "# Determine the volatility based on the period length\n",
        "if period_length.lower() == 'daily':\n",
        "    volatility = annual_volatility / np.sqrt(252)\n",
        "elif period_length.lower() == 'monthly':\n",
        "    volatility = annual_volatility / np.sqrt(12)\n",
        "elif period_length.lower() == 'biannual':\n",
        "    volatility = annual_volatility / np.sqrt(2)\n",
        "elif period_length.lower() == 'annually':\n",
        "    volatility = annual_volatility\n",
        "else:\n",
        "    raise ValueError(\"Period length must be 'daily', 'monthly', 'biannual', or 'annually'\")\n",
        "\n",
        "# Calculate the Parametric VaR\n",
        "var_parametric = z_score * volatility * portfolio_value\n",
        "\n",
        "# Format and print the result\n",
        "formatted_var_parametric = \"${:,.2f}\".format(abs(var_parametric))\n",
        "formatted_volatility=\"{:,.2f}%\".format(abs(volatility*100))\n",
        "print('Z-score:',round(z_score,3))\n",
        "print('Volatility:', formatted_volatility)\n",
        "print('Period length:',period_length )\n",
        "print('Parametric VaR=', formatted_var_parametric)\n"
      ]
    }
  ]
}