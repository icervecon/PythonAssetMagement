{
  "nbformat": 4,
  "nbformat_minor": 0,
  "metadata": {
    "colab": {
      "provenance": []
    },
    "kernelspec": {
      "name": "python3",
      "display_name": "Python 3"
    },
    "language_info": {
      "name": "python"
    }
  },
  "cells": [
    {
      "cell_type": "markdown",
      "source": [
        "# Practical Exercise 4.01: Bond Characteristics"
      ],
      "metadata": {
        "id": "ZxHiHjaHJFJN"
      }
    },
    {
      "cell_type": "code",
      "execution_count": null,
      "metadata": {
        "id": "w0wPfQq_I9YN"
      },
      "outputs": [],
      "source": [
        "import pandas as pd\n",
        "import numpy as np\n",
        "import numpy_financial as npf\n",
        "import matplotlib.pyplot as plt\n",
        "from tabulate import tabulate\n"
      ]
    },
    {
      "cell_type": "code",
      "source": [
        "#Downloading IRS Curve from a file\n",
        "\n",
        "infile=pd.ExcelFile(\"EURIBORISR Reuters.xlsx\")\n",
        "IRSwaps=infile.parse('Hoja2')\n",
        "\n",
        "#IRS file filtering\n",
        "\n",
        "IRSwaps=IRSwaps[['Term','Ask']]\n",
        "IRSwaps=IRSwaps.rename(columns={'Ask':'SWRate'})\n",
        "IRSwaps.index+=1\n",
        "\n",
        "# Zero coupon interest rates in the interbank market are constructed from IRS rates.\n",
        "\n",
        "ZCC=[] # A matrix is created to collect the zero coupon interest rates.\n",
        "i1=IRSwaps.SWRate[1]/100 # The 1-year zero coupon rate is matched to the 1-year IRS rate.\n",
        "\n",
        "ZCC.append(i1)\n",
        "\n",
        "for x in range(2,21): # The zero coupon rates for years 2 to 20 are calculated.\n",
        "\n",
        "    maturity=x # Rates will be calculated by maturity.\n",
        "    Coupon=[] # The matrix that will collect the coupons is created.\n",
        "    for n in range(maturity-1): # The coupons of all maturities are selected except for the last year.\n",
        "\n",
        "        Maturities=list(range(maturity)) # A maturity list is created\n",
        "        coupon=(IRSwaps.SWRate[maturity])/((1+ZCC[n])**(Maturities[n+1]))\n",
        "        # Coupons are updated to the zero coupon rates generated up to that time.\n",
        "        Coupon.append(coupon) # The updated coupons are added to the coupon matrix.\n",
        "        VACoupon=np.sum(Coupon) # The total value of the updated coupons is calculated\n",
        "\n",
        "        Current_Price=100-(VACoupon) # To find the price at source, the present value of the coupons is subtracted from the nominal value.\n",
        "\n",
        "        Last_CashFlow=100+IRSwaps.SWRate[maturity] # The last cash flow of the bond is calculated, which is the nominal plus the coupon.\n",
        "\n",
        "        i1=((Last_CashFlow/Current_Price)**(1/maturity))-1 #The zero coupon rate is calculated for this maturity.\n",
        "\n",
        "    ZCC.append(i1) # The zero coupon rate is added to those already calculated for previous periods.\n",
        "\n",
        "\n",
        "ZCC=[round(b*100,5) for b in ZCC] # Rates are rounded\n",
        "ZCC=pd.DataFrame(ZCC)\n",
        "\n",
        "# The comparison between swap rates and interbank zero-coupon rates is displayed.\n",
        "\n",
        "ZCCIntbank=pd.DataFrame(ZCC)\n",
        "ZCCIntbank=ZCCIntbank.rename(columns={0:'ZCRate'})\n",
        "ZCCIntbank.index+=1\n",
        "Rates=pd.concat([IRSwaps,ZCCIntbank], axis=1)\n",
        "Rates\n",
        "\n"
      ],
      "metadata": {
        "id": "6YoTWpSkJPiU"
      },
      "execution_count": null,
      "outputs": []
    },
    {
      "cell_type": "code",
      "source": [
        "# Both curves are plotted graphically\n",
        "\n",
        "plt.figure(figsize=(12, 8))\n",
        "plt.grid(True)\n",
        "plt.scatter(Rates['Term'], Rates['ZCRate'] ,marker='o',color='r',s=50, label='Zero Coupon Rates')\n",
        "plt.plot(Rates['Term'], Rates['ZCRate'] ,linestyle='-', color='black', label='Zero Coupon Curve')\n",
        "plt.scatter(Rates['Term'], Rates['SWRate'] ,marker='o',color='b',s=50, label='Swaps Rates')\n",
        "plt.plot(Rates['Term'], Rates['SWRate'] ,linestyle='-', color='grey', label='Swaps Curve')\n",
        "plt.title('ZERO COUPON CURVE versus SWAPS CURVE')\n",
        "plt.xlabel('YEARS')\n",
        "plt.ylabel('RATES (%)')\n",
        "plt.legend(labelspacing=0.8)\n"
      ],
      "metadata": {
        "id": "CrMpjU3lJQ6G"
      },
      "execution_count": null,
      "outputs": []
    },
    {
      "cell_type": "code",
      "source": [
        "# We define the bond characteristics function\n",
        "\n",
        "def bond_characteristics_calculation(face_value, mty, coupons, SWsprd):\n",
        "\n",
        "    # Calculation of discount factor\n",
        "\n",
        "    ZCRates = 1 + (Rates.ZCRate.T / 100) + (SWsprd / 10000)\n",
        "\n",
        "\n",
        "    # Calculation of the present value of all cash flows\n",
        "\n",
        "    coupon=(coupons/100)*face_value\n",
        "    coupons_record = np.array([coupon] * mty)\n",
        "\n",
        "    # Generation of maturities\n",
        "\n",
        "    n = np.arange(1, mty + 1)\n",
        "\n",
        "    # Value of each coupon discounted at the discount factor raised at maturity\n",
        "\n",
        "    VAcoupons = coupons_record/(ZCRates.values[0:mty].T ** n)\n",
        "    SUMvacoupons = np.sum(VAcoupons) # Sum of all coupons at current value\n",
        "\n",
        "\n",
        "\n",
        "    # Calculation of the present value of the nominal value\n",
        "\n",
        "    VAFaceVal = face_value / (ZCRates.values[(mty - 1):mty] ** mty)\n",
        "\n",
        "\n",
        "    # Bond price calculation\n",
        "\n",
        "    BondPrice = (SUMvacoupons + VAFaceVal).round(2)\n",
        "    BondPrice = BondPrice.item()\n",
        "\n",
        "\n",
        "    # Establishing the cash flows of the Bond\n",
        "\n",
        "    BondCF=list(coupons_record[0:mty - 1])\n",
        "    BondCF.append(face_value+(coupon))\n",
        "    BondCF.insert(0, -BondPrice)\n",
        "\n",
        "   # Transforming cash flows to normal floats\n",
        "    BondCF = [float(x) for x in BondCF]\n",
        "\n",
        "\n",
        "    # Calculating the bond's IRR from its cash flows.\n",
        "\n",
        "    BondIRR = npf.irr(BondCF) * 100\n",
        "\n",
        "    # Calculating the MacAuley duration of the bond\n",
        "\n",
        "    Maturities = np.arange(1, mty)\n",
        "    VAFace = (face_value + coupon) / (ZCRates.values[(mty - 1):mty] ** mty)\n",
        "    CFDur = [(a * b) for a, b in zip(VAcoupons, Maturities)]\n",
        "    SUMACFDur = np.sum(CFDur)\n",
        "    Duration = (SUMACFDur + (VAFace * mty)) / BondPrice\n",
        "    Duration = Duration.item()\n",
        "    ModifiedDuration = Duration / (1 + (BondIRR / 100))\n",
        "\n",
        "    # Calculate convexity\n",
        "\n",
        "    t = np.arange(1, mty)\n",
        "    VAcoupons2 = coupons_record[1:mty + 1] / ((1 + (BondIRR / 100)) ** (t + 2))\n",
        "    Maturities2 = [i * (i + 1) for i in range(1, mty)]\n",
        "    CFConvx = [(a * b) for a, b in zip(VAcoupons2, Maturities2)]\n",
        "    VAFaceConvx = (face_value + coupon) / ((1 + (BondIRR / 100)) ** (mty + 2))\n",
        "    VAFaceConvx = VAFaceConvx * mty * (mty + 1)\n",
        "    AbsConvx = np.sum(CFConvx) + VAFaceConvx\n",
        "    ModConvx = AbsConvx / BondPrice\n",
        "    ModConvx = ModConvx.item()\n",
        "\n",
        "    # Creating a results dictionary\n",
        "\n",
        "    results = {\n",
        "        'Metric': ['Face Value (€)', 'Bond Price (€)', 'Bond Maturity (years)', 'Coupon (€)','Coupon rate (%)','Bond IRR (%)', 'Duration (years)', 'Modified Duration', 'Discrete Convexity', 'Bond Cash-Flows'],\n",
        "        'Value': [round(face_value,2), BondPrice, len(Maturities)+1, coupon, coupons, round(BondIRR,2), round(Duration,2), round(ModifiedDuration,2),  round(ModConvx,2), BondCF]\n",
        "    }\n",
        "\n",
        "\n",
        "    # Converting dictionary to a DataFrame\n",
        "\n",
        "    results_df = pd.DataFrame(results)\n",
        "\n",
        "    return results_df\n",
        "\n",
        "def printing_in_bold_type(df):\n",
        "    bold_end = '\\033[1m'\n",
        "    table = tabulate(df, headers='keys', tablefmt='tsv')\n",
        "    bold_start = '\\033[1m'\n",
        "    table = table.replace('|', f'{bold_start}|{bold_end}')\n",
        "    table = table.replace('-', f'{bold_start}-{bold_end}')\n",
        "    return f'{bold_start}{table}{bold_end}'\n"
      ],
      "metadata": {
        "id": "zj91ESwcJUix"
      },
      "execution_count": null,
      "outputs": []
    },
    {
      "cell_type": "code",
      "source": [
        "# Apply for the above-mentioned bond\n",
        "\n",
        "face_value=1000\n",
        "mty=10 # Maturity of the Bond, in years\n",
        "coupons=2.00 # Bond coupon, as a percentage of par value\n",
        "SWsprd=50 # Bond spread over the interbank zero-coupon curve, in basis points\n",
        "\n",
        "bond_characteristics= bond_characteristics_calculation(face_value, mty, coupons, SWsprd)\n",
        "bond_characteristics.index+=1\n",
        "\n",
        "print(printing_in_bold_type(bond_characteristics))\n"
      ],
      "metadata": {
        "id": "CMrEVEsfJbo5"
      },
      "execution_count": null,
      "outputs": []
    }
  ]
}