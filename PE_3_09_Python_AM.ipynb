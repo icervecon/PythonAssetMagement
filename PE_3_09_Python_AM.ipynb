{
  "nbformat": 4,
  "nbformat_minor": 0,
  "metadata": {
    "colab": {
      "provenance": []
    },
    "kernelspec": {
      "name": "python3",
      "display_name": "Python 3"
    },
    "language_info": {
      "name": "python"
    }
  },
  "cells": [
    {
      "cell_type": "markdown",
      "source": [
        "# Practical Exercise 3.09: Monte Carlo Simulation (with normal distribution)"
      ],
      "metadata": {
        "id": "46KfozzPHs3G"
      }
    },
    {
      "cell_type": "code",
      "execution_count": null,
      "metadata": {
        "id": "tFGQBEfpHpPR"
      },
      "outputs": [],
      "source": [
        "import numpy as np\n",
        "import matplotlib.pyplot as plt\n",
        "\n",
        "# Input parameters\n",
        "initial_value = 1000000  # Initial portfolio value\n",
        "expected_return = 0.001451  # Daily expected return\n",
        "volatility = 0.01701  # Daily standard deviation\n",
        "days = 252  # Number of days in the time horizon (one trading year)\n",
        "simulations = 10000  # Number of simulations\n",
        "\n",
        "# Create a matrix for storing simulation results\n",
        "future_values = np.zeros((simulations, days))\n",
        "\n",
        "# Fill in the first column with the initial price\n",
        "future_values[:, 0] = initial_value\n",
        "\n",
        "# Generate simulations\n",
        "for t in range(1, days):\n",
        "    # Generate random daily returns\n",
        "    z = np.random.normal(expected_return, volatility, simulations)\n",
        "    # Calculate the share price for the following day\n",
        "    future_values[:, t] = future_values[:, t - 1] * (1 + z)\n",
        "\n",
        "# Plotting some simulated trajectories\n",
        "plt.figure(figsize=(10, 6))\n",
        "plt.plot(future_values.T, lw=1, alpha=0.1)\n",
        "plt.title('Monte Carlo simulations for the value of a portfolio')\n",
        "plt.xlabel('Days')\n",
        "plt.ylabel('Portfolio Value')\n",
        "plt.show()\n",
        "\n",
        "# Analyze results\n",
        "final_value = future_values[:, -1]\n",
        "plt.figure(figsize=(10, 6))\n",
        "plt.hist(final_value, bins=50, alpha=0.75)\n",
        "plt.title('Simulated Final Value Distribution')\n",
        "plt.xlabel('Portfolio Value')\n",
        "plt.ylabel('Frequency')\n",
        "plt.show()\n",
        "\n",
        "# Statistics\n",
        "mean_final = np.mean(final_value)\n",
        "std_final = np.std(final_value)\n",
        "percentiles = np.percentile(final_value, [5, 50, 95])\n",
        "\n",
        "# Print results with thousands separators and two decimal places\n",
        "print(f\"Final average value: ${mean_final:,.2f}\")\n",
        "print(f\"Standard deviation of final value: ${std_final:,.2f}\")\n",
        "print(f\"Percentile 5%: ${percentiles[0]:,.2f}\")\n",
        "print(f\"Percentile 50% (Median): ${percentiles[1]:,.2f}\")\n",
        "print(f\"Percentile 95%: ${percentiles[2]:,.2f}\")\n"
      ]
    }
  ]
}